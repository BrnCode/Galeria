{
  "cells": [
    {
      "cell_type": "markdown",
      "metadata": {
        "id": "view-in-github",
        "colab_type": "text"
      },
      "source": [
        "<a href=\"https://colab.research.google.com/github/BrnCode/Galeria/blob/main/response.ipynb\" target=\"_parent\"><img src=\"https://colab.research.google.com/assets/colab-badge.svg\" alt=\"Open In Colab\"/></a>"
      ]
    },
    {
      "cell_type": "markdown",
      "source": [
        "## Começo"
      ],
      "metadata": {
        "id": "L-rVQtun8sA6"
      }
    },
    {
      "cell_type": "code",
      "execution_count": null,
      "metadata": {
        "id": "FzNjdNwEGEBv"
      },
      "outputs": [],
      "source": [
        "import numpy as np\n",
        "import pandas as pd\n",
        "\n",
        "import seaborn as sns  \n",
        "import matplotlib.pyplot as plt "
      ]
    },
    {
      "cell_type": "code",
      "execution_count": null,
      "metadata": {
        "colab": {
          "base_uri": "https://localhost:8080/"
        },
        "id": "ubtLkxNIGbTh",
        "outputId": "1cfa0d3a-50eb-4386-a172-82973d8daf4d"
      },
      "outputs": [
        {
          "output_type": "stream",
          "name": "stdout",
          "text": [
            "Drive already mounted at /content/drive; to attempt to forcibly remount, call drive.mount(\"/content/drive\", force_remount=True).\n"
          ]
        }
      ],
      "source": [
        "from google.colab import drive\n",
        "drive.mount('/content/drive')"
      ]
    },
    {
      "cell_type": "code",
      "execution_count": null,
      "metadata": {
        "colab": {
          "base_uri": "https://localhost:8080/",
          "height": 235
        },
        "id": "InnAVg5fGJgl",
        "outputId": "8c870aa8-7d69-43b2-9536-9f9336a264d2"
      },
      "outputs": [
        {
          "output_type": "execute_result",
          "data": {
            "text/plain": [
              "   Semana  TRP  Acumulado  Liquido  1  2   3   4   5   6  ...  21  22  23  24  \\\n",
              "0       1   34         34       34  7  5  14  50  65  49  ...   0   0  65   0   \n",
              "1       2  103        137      133  7  5  14  50  65  49  ...   0   0  65   0   \n",
              "2       3   97        234      216  7  5  14  50  65  49  ...   0   0  65   0   \n",
              "3       4   95        329      289  7  5  14  50  65  49  ...   0   0  65   0   \n",
              "4       5   53        382      314  7  5  14  50  65  49  ...   0   0  65   0   \n",
              "\n",
              "   25  26  27  28  29  30  \n",
              "0  50  10  40   0   0  15  \n",
              "1  50  10  40   0   0  15  \n",
              "2  50  10  40   0   0  15  \n",
              "3  50  10  40   0   0  15  \n",
              "4  50  10  40   0   0  15  \n",
              "\n",
              "[5 rows x 34 columns]"
            ],
            "text/html": [
              "\n",
              "  <div id=\"df-71c2688b-db55-42d8-9c47-edeb23707d27\">\n",
              "    <div class=\"colab-df-container\">\n",
              "      <div>\n",
              "<style scoped>\n",
              "    .dataframe tbody tr th:only-of-type {\n",
              "        vertical-align: middle;\n",
              "    }\n",
              "\n",
              "    .dataframe tbody tr th {\n",
              "        vertical-align: top;\n",
              "    }\n",
              "\n",
              "    .dataframe thead th {\n",
              "        text-align: right;\n",
              "    }\n",
              "</style>\n",
              "<table border=\"1\" class=\"dataframe\">\n",
              "  <thead>\n",
              "    <tr style=\"text-align: right;\">\n",
              "      <th></th>\n",
              "      <th>Semana</th>\n",
              "      <th>TRP</th>\n",
              "      <th>Acumulado</th>\n",
              "      <th>Liquido</th>\n",
              "      <th>1</th>\n",
              "      <th>2</th>\n",
              "      <th>3</th>\n",
              "      <th>4</th>\n",
              "      <th>5</th>\n",
              "      <th>6</th>\n",
              "      <th>...</th>\n",
              "      <th>21</th>\n",
              "      <th>22</th>\n",
              "      <th>23</th>\n",
              "      <th>24</th>\n",
              "      <th>25</th>\n",
              "      <th>26</th>\n",
              "      <th>27</th>\n",
              "      <th>28</th>\n",
              "      <th>29</th>\n",
              "      <th>30</th>\n",
              "    </tr>\n",
              "  </thead>\n",
              "  <tbody>\n",
              "    <tr>\n",
              "      <th>0</th>\n",
              "      <td>1</td>\n",
              "      <td>34</td>\n",
              "      <td>34</td>\n",
              "      <td>34</td>\n",
              "      <td>7</td>\n",
              "      <td>5</td>\n",
              "      <td>14</td>\n",
              "      <td>50</td>\n",
              "      <td>65</td>\n",
              "      <td>49</td>\n",
              "      <td>...</td>\n",
              "      <td>0</td>\n",
              "      <td>0</td>\n",
              "      <td>65</td>\n",
              "      <td>0</td>\n",
              "      <td>50</td>\n",
              "      <td>10</td>\n",
              "      <td>40</td>\n",
              "      <td>0</td>\n",
              "      <td>0</td>\n",
              "      <td>15</td>\n",
              "    </tr>\n",
              "    <tr>\n",
              "      <th>1</th>\n",
              "      <td>2</td>\n",
              "      <td>103</td>\n",
              "      <td>137</td>\n",
              "      <td>133</td>\n",
              "      <td>7</td>\n",
              "      <td>5</td>\n",
              "      <td>14</td>\n",
              "      <td>50</td>\n",
              "      <td>65</td>\n",
              "      <td>49</td>\n",
              "      <td>...</td>\n",
              "      <td>0</td>\n",
              "      <td>0</td>\n",
              "      <td>65</td>\n",
              "      <td>0</td>\n",
              "      <td>50</td>\n",
              "      <td>10</td>\n",
              "      <td>40</td>\n",
              "      <td>0</td>\n",
              "      <td>0</td>\n",
              "      <td>15</td>\n",
              "    </tr>\n",
              "    <tr>\n",
              "      <th>2</th>\n",
              "      <td>3</td>\n",
              "      <td>97</td>\n",
              "      <td>234</td>\n",
              "      <td>216</td>\n",
              "      <td>7</td>\n",
              "      <td>5</td>\n",
              "      <td>14</td>\n",
              "      <td>50</td>\n",
              "      <td>65</td>\n",
              "      <td>49</td>\n",
              "      <td>...</td>\n",
              "      <td>0</td>\n",
              "      <td>0</td>\n",
              "      <td>65</td>\n",
              "      <td>0</td>\n",
              "      <td>50</td>\n",
              "      <td>10</td>\n",
              "      <td>40</td>\n",
              "      <td>0</td>\n",
              "      <td>0</td>\n",
              "      <td>15</td>\n",
              "    </tr>\n",
              "    <tr>\n",
              "      <th>3</th>\n",
              "      <td>4</td>\n",
              "      <td>95</td>\n",
              "      <td>329</td>\n",
              "      <td>289</td>\n",
              "      <td>7</td>\n",
              "      <td>5</td>\n",
              "      <td>14</td>\n",
              "      <td>50</td>\n",
              "      <td>65</td>\n",
              "      <td>49</td>\n",
              "      <td>...</td>\n",
              "      <td>0</td>\n",
              "      <td>0</td>\n",
              "      <td>65</td>\n",
              "      <td>0</td>\n",
              "      <td>50</td>\n",
              "      <td>10</td>\n",
              "      <td>40</td>\n",
              "      <td>0</td>\n",
              "      <td>0</td>\n",
              "      <td>15</td>\n",
              "    </tr>\n",
              "    <tr>\n",
              "      <th>4</th>\n",
              "      <td>5</td>\n",
              "      <td>53</td>\n",
              "      <td>382</td>\n",
              "      <td>314</td>\n",
              "      <td>7</td>\n",
              "      <td>5</td>\n",
              "      <td>14</td>\n",
              "      <td>50</td>\n",
              "      <td>65</td>\n",
              "      <td>49</td>\n",
              "      <td>...</td>\n",
              "      <td>0</td>\n",
              "      <td>0</td>\n",
              "      <td>65</td>\n",
              "      <td>0</td>\n",
              "      <td>50</td>\n",
              "      <td>10</td>\n",
              "      <td>40</td>\n",
              "      <td>0</td>\n",
              "      <td>0</td>\n",
              "      <td>15</td>\n",
              "    </tr>\n",
              "  </tbody>\n",
              "</table>\n",
              "<p>5 rows × 34 columns</p>\n",
              "</div>\n",
              "      <button class=\"colab-df-convert\" onclick=\"convertToInteractive('df-71c2688b-db55-42d8-9c47-edeb23707d27')\"\n",
              "              title=\"Convert this dataframe to an interactive table.\"\n",
              "              style=\"display:none;\">\n",
              "        \n",
              "  <svg xmlns=\"http://www.w3.org/2000/svg\" height=\"24px\"viewBox=\"0 0 24 24\"\n",
              "       width=\"24px\">\n",
              "    <path d=\"M0 0h24v24H0V0z\" fill=\"none\"/>\n",
              "    <path d=\"M18.56 5.44l.94 2.06.94-2.06 2.06-.94-2.06-.94-.94-2.06-.94 2.06-2.06.94zm-11 1L8.5 8.5l.94-2.06 2.06-.94-2.06-.94L8.5 2.5l-.94 2.06-2.06.94zm10 10l.94 2.06.94-2.06 2.06-.94-2.06-.94-.94-2.06-.94 2.06-2.06.94z\"/><path d=\"M17.41 7.96l-1.37-1.37c-.4-.4-.92-.59-1.43-.59-.52 0-1.04.2-1.43.59L10.3 9.45l-7.72 7.72c-.78.78-.78 2.05 0 2.83L4 21.41c.39.39.9.59 1.41.59.51 0 1.02-.2 1.41-.59l7.78-7.78 2.81-2.81c.8-.78.8-2.07 0-2.86zM5.41 20L4 18.59l7.72-7.72 1.47 1.35L5.41 20z\"/>\n",
              "  </svg>\n",
              "      </button>\n",
              "      \n",
              "  <style>\n",
              "    .colab-df-container {\n",
              "      display:flex;\n",
              "      flex-wrap:wrap;\n",
              "      gap: 12px;\n",
              "    }\n",
              "\n",
              "    .colab-df-convert {\n",
              "      background-color: #E8F0FE;\n",
              "      border: none;\n",
              "      border-radius: 50%;\n",
              "      cursor: pointer;\n",
              "      display: none;\n",
              "      fill: #1967D2;\n",
              "      height: 32px;\n",
              "      padding: 0 0 0 0;\n",
              "      width: 32px;\n",
              "    }\n",
              "\n",
              "    .colab-df-convert:hover {\n",
              "      background-color: #E2EBFA;\n",
              "      box-shadow: 0px 1px 2px rgba(60, 64, 67, 0.3), 0px 1px 3px 1px rgba(60, 64, 67, 0.15);\n",
              "      fill: #174EA6;\n",
              "    }\n",
              "\n",
              "    [theme=dark] .colab-df-convert {\n",
              "      background-color: #3B4455;\n",
              "      fill: #D2E3FC;\n",
              "    }\n",
              "\n",
              "    [theme=dark] .colab-df-convert:hover {\n",
              "      background-color: #434B5C;\n",
              "      box-shadow: 0px 1px 3px 1px rgba(0, 0, 0, 0.15);\n",
              "      filter: drop-shadow(0px 1px 2px rgba(0, 0, 0, 0.3));\n",
              "      fill: #FFFFFF;\n",
              "    }\n",
              "  </style>\n",
              "\n",
              "      <script>\n",
              "        const buttonEl =\n",
              "          document.querySelector('#df-71c2688b-db55-42d8-9c47-edeb23707d27 button.colab-df-convert');\n",
              "        buttonEl.style.display =\n",
              "          google.colab.kernel.accessAllowed ? 'block' : 'none';\n",
              "\n",
              "        async function convertToInteractive(key) {\n",
              "          const element = document.querySelector('#df-71c2688b-db55-42d8-9c47-edeb23707d27');\n",
              "          const dataTable =\n",
              "            await google.colab.kernel.invokeFunction('convertToInteractive',\n",
              "                                                     [key], {});\n",
              "          if (!dataTable) return;\n",
              "\n",
              "          const docLinkHtml = 'Like what you see? Visit the ' +\n",
              "            '<a target=\"_blank\" href=https://colab.research.google.com/notebooks/data_table.ipynb>data table notebook</a>'\n",
              "            + ' to learn more about interactive tables.';\n",
              "          element.innerHTML = '';\n",
              "          dataTable['output_type'] = 'display_data';\n",
              "          await google.colab.output.renderOutput(dataTable, element);\n",
              "          const docLink = document.createElement('div');\n",
              "          docLink.innerHTML = docLinkHtml;\n",
              "          element.appendChild(docLink);\n",
              "        }\n",
              "      </script>\n",
              "    </div>\n",
              "  </div>\n",
              "  "
            ]
          },
          "metadata": {},
          "execution_count": 3
        }
      ],
      "source": [
        "df = pd.read_excel('/content/drive/MyDrive/Response Pronto 1.xlsx')\n",
        "df.head()"
      ]
    },
    {
      "cell_type": "code",
      "execution_count": null,
      "metadata": {
        "id": "C0xfKB9yGu-l"
      },
      "outputs": [],
      "source": [
        "df.shape"
      ]
    },
    {
      "cell_type": "code",
      "execution_count": null,
      "metadata": {
        "colab": {
          "base_uri": "https://localhost:8080/"
        },
        "id": "yTmCLhVTLhzS",
        "outputId": "7fca4316-a16a-4df5-84d6-f8179607ad14"
      },
      "outputs": [
        {
          "output_type": "execute_result",
          "data": {
            "text/plain": [
              "Semana       int64\n",
              "TRP          int64\n",
              "Acumulado    int64\n",
              "Liquido      int64\n",
              "1            int64\n",
              "2            int64\n",
              "3            int64\n",
              "4            int64\n",
              "5            int64\n",
              "6            int64\n",
              "7            int64\n",
              "8            int64\n",
              "9            int64\n",
              "10           int64\n",
              "11           int64\n",
              "12           int64\n",
              "13           int64\n",
              "14           int64\n",
              "15           int64\n",
              "16           int64\n",
              "17           int64\n",
              "18           int64\n",
              "19           int64\n",
              "20           int64\n",
              "21           int64\n",
              "22           int64\n",
              "23           int64\n",
              "24           int64\n",
              "25           int64\n",
              "26           int64\n",
              "27           int64\n",
              "28           int64\n",
              "29           int64\n",
              "30           int64\n",
              "dtype: object"
            ]
          },
          "metadata": {},
          "execution_count": 5
        }
      ],
      "source": [
        "df.dtypes"
      ]
    },
    {
      "cell_type": "code",
      "execution_count": null,
      "metadata": {
        "id": "2Qy36RN7GxUG"
      },
      "outputs": [],
      "source": [
        "df.isna().sum()"
      ]
    },
    {
      "cell_type": "code",
      "execution_count": null,
      "metadata": {
        "id": "H8pfIAt1MD1I"
      },
      "outputs": [],
      "source": [
        "ax, fig =plt.subplots(figsize=(30,20))\n",
        "# sns.heatmap(retorno.corr(), annot=True);\n",
        "#upp_mat = np.triu(retorno.corr())\n",
        "plt.title('Correlação de Spearman',size=15)\n",
        "sns.heatmap(df.corr('spearman'), annot=True, vmax=1, vmin=-1, cmap='coolwarm');"
      ]
    },
    {
      "cell_type": "code",
      "execution_count": null,
      "metadata": {
        "id": "zwl2mBkkG2bW"
      },
      "outputs": [],
      "source": [
        "ax, fig =plt.subplots(figsize=(30,20))\n",
        "# sns.heatmap(retorno.corr(), annot=True);\n",
        "#upp_mat = np.triu(retorno.corr())\n",
        "plt.title('Correlação de Pearson',size=15)\n",
        "sns.heatmap(df.corr(), annot=True, vmax=1, vmin=-1, cmap='coolwarm');"
      ]
    },
    {
      "cell_type": "code",
      "execution_count": null,
      "metadata": {
        "id": "TCrsErHbH4Bb"
      },
      "outputs": [],
      "source": [
        "dfCorr = df.corr()\n",
        "filteredDf = dfCorr[((dfCorr >= .5) | (dfCorr <= -.5)) & (dfCorr !=1.000)]\n",
        "plt.figure(figsize=(30,10))\n",
        "sns.heatmap(filteredDf, annot=True, cmap='coolwarm')\n",
        "plt.show()"
      ]
    },
    {
      "cell_type": "code",
      "execution_count": null,
      "metadata": {
        "id": "n8DUTOLaILES"
      },
      "outputs": [],
      "source": [
        "corr = df.corr()\n",
        "\n",
        "kot = corr[corr>=.9]\n",
        "plt.figure(figsize=(30,10))\n",
        "sns.heatmap(kot, cmap='coolwarm');"
      ]
    },
    {
      "cell_type": "code",
      "execution_count": null,
      "metadata": {
        "id": "iTtQYB6sJF-j"
      },
      "outputs": [],
      "source": [
        "print(\"Data Frame\")\n",
        "print(df)\n",
        "print()\n",
        "\n",
        "print(\"Correlation Matrix\")\n",
        "print(df.corr())\n",
        "print()\n",
        "\n",
        "def get_redundant_pairs(df):\n",
        "    '''Get diagonal and lower triangular pairs of correlation matrix'''\n",
        "    pairs_to_drop = set()\n",
        "    cols = df.columns\n",
        "    for i in range(0, df.shape[1]):\n",
        "        for j in range(0, i+1):\n",
        "            pairs_to_drop.add((cols[i], cols[j]))\n",
        "    return pairs_to_drop\n",
        "\n",
        "def get_top_abs_correlations(df, n=5):\n",
        "    au_corr = df.corr().abs().unstack()\n",
        "    labels_to_drop = get_redundant_pairs(df)\n",
        "    au_corr = au_corr.drop(labels=labels_to_drop).sort_values(ascending=False)\n",
        "    return au_corr[0:n]\n",
        "\n",
        "print(\"Top Absolute Correlations\")\n",
        "print(get_top_abs_correlations(df, 3))"
      ]
    },
    {
      "cell_type": "code",
      "execution_count": null,
      "metadata": {
        "id": "es_QSMADJYX1"
      },
      "outputs": [],
      "source": [
        "print(\"Top Absolute Correlations\")\n",
        "print(get_top_abs_correlations(df, 10))"
      ]
    },
    {
      "cell_type": "code",
      "execution_count": null,
      "metadata": {
        "id": "wCDq9BWoHRqu"
      },
      "outputs": [],
      "source": [
        "df.corr().unstack().sort_values().drop_duplicates()"
      ]
    },
    {
      "cell_type": "code",
      "execution_count": null,
      "metadata": {
        "id": "gUT08ZFbKUvD"
      },
      "outputs": [],
      "source": [
        "sns.pairplot(df);"
      ]
    },
    {
      "cell_type": "code",
      "execution_count": null,
      "metadata": {
        "id": "Jq-HGnSFl1yN"
      },
      "outputs": [],
      "source": [
        "from sklearn.model_selection import train_test_split\n",
        "from sklearn.linear_model import LinearRegression"
      ]
    },
    {
      "cell_type": "code",
      "execution_count": null,
      "metadata": {
        "id": "p9WjD3dDPnkc"
      },
      "outputs": [],
      "source": [
        "## modelo do Scikit Learn\n",
        "\n",
        "#Variáveis independentes\n",
        "X = df.drop(['Liquido'],axis=1)\n",
        "#Variável dependentes\n",
        "y = df['Liquido']\n",
        "\n",
        "X_train, X_test, y_train, y_test = train_test_split(X, y, test_size=0.2)"
      ]
    },
    {
      "cell_type": "code",
      "execution_count": null,
      "metadata": {
        "id": "GDaXl8nz3B_h"
      },
      "outputs": [],
      "source": [
        "y_test"
      ]
    },
    {
      "cell_type": "code",
      "execution_count": null,
      "metadata": {
        "id": "f8IZuJvWP-mu"
      },
      "outputs": [],
      "source": [
        "modelo = LinearRegression()\n",
        "modelo.fit(X,y)\n",
        "LinearRegression() #esse é o objeto criado\n",
        "\n",
        "\n",
        "y_pred = modelo.predict(X_test)\n",
        "y_pred"
      ]
    },
    {
      "cell_type": "code",
      "execution_count": null,
      "metadata": {
        "id": "9nVQl5uLn0jf"
      },
      "outputs": [],
      "source": [
        "# Coeficiente de Determinação (R²)\n",
        "modelo.score(X,y)"
      ]
    },
    {
      "cell_type": "code",
      "execution_count": null,
      "metadata": {
        "id": "M1KF6uMfn8Kf"
      },
      "outputs": [],
      "source": [
        "from sklearn.metrics import r2_score \n",
        "# em metrics, temos quase todas as metricas geralmete utilizadas\n",
        "\n",
        "R2 = r2_score(y_test,y_pred)\n",
        "print(R2)\n",
        "\n"
      ]
    },
    {
      "cell_type": "code",
      "execution_count": null,
      "metadata": {
        "id": "Nv5UBGqsoAJ9"
      },
      "outputs": [],
      "source": [
        "# R² ajustado\n",
        "\n",
        "def adjusted_r2(y_test, y_pred,X_train):\n",
        "    \n",
        "  from sklearn.metrics import r2_score\n",
        "\n",
        "  adj_r2 = (1 - ((1 - r2_score(y_test, y_pred)) * (len(y_test) - 1)) / \n",
        "          (len(y_test) - X_train.shape[1] - 1))\n",
        "    \n",
        "  return adj_r2\n",
        "\n",
        "adjusted_r2(y_test,y_pred,X_train)"
      ]
    },
    {
      "cell_type": "code",
      "execution_count": null,
      "metadata": {
        "id": "YqLcFe3loHsP"
      },
      "outputs": [],
      "source": [
        "from sklearn.metrics import mean_squared_error\n",
        "\n",
        "MSE = mean_squared_error(y_test,y_pred)\n",
        "print(MSE)"
      ]
    },
    {
      "cell_type": "code",
      "execution_count": null,
      "metadata": {
        "id": "pd4xZ4ZHoKxM"
      },
      "outputs": [],
      "source": [
        "from sklearn.metrics import mean_squared_error # mesma funcao do MSE\n",
        "\n",
        "RMSE = mean_squared_error(y_test,y_pred,squared=False) \n",
        "# argumento 'squared' dado como false nos da o RMSE\n",
        "\n",
        "# ou podemos simplesmente tirar a raiz quadrada do MSE\n",
        "RMSE = MSE**0.5\n",
        "\n",
        "print(RMSE)"
      ]
    },
    {
      "cell_type": "code",
      "execution_count": null,
      "metadata": {
        "id": "BT1jkXH3oONl"
      },
      "outputs": [],
      "source": [
        "from sklearn.metrics import mean_absolute_error\n",
        "\n",
        "MAE = mean_absolute_error(y_test,y_pred)\n",
        "print(MAE)\n",
        "\n"
      ]
    },
    {
      "cell_type": "code",
      "execution_count": null,
      "metadata": {
        "id": "-5KDDd1-oTRe"
      },
      "outputs": [],
      "source": [
        "MAPE = np.mean(np.abs((y_test - y_pred) / y_test)) * 100\n",
        "\n",
        "print(f\"Valor do MAPE dado em percentual: {MAPE}\")\n",
        "\n"
      ]
    },
    {
      "cell_type": "code",
      "execution_count": null,
      "metadata": {
        "id": "k5F9KYOSQGFd"
      },
      "outputs": [],
      "source": [
        "# Intercepto (ou constante) do modelo.\n",
        "modelo.intercept_"
      ]
    },
    {
      "cell_type": "code",
      "execution_count": null,
      "metadata": {
        "id": "2TC_HWmdQJIF"
      },
      "outputs": [],
      "source": [
        "# Coeficientes (ou parâmetros) do modelo.\n",
        "modelo.coef_"
      ]
    },
    {
      "cell_type": "code",
      "execution_count": null,
      "metadata": {
        "id": "6euRAu7qYhnJ"
      },
      "outputs": [],
      "source": [
        "print(\"O modelo é: TrpAcumulado = {:.5} + {:.5}X + ...\".format(modelo.intercept_, modelo.coef_[0]))"
      ]
    },
    {
      "cell_type": "markdown",
      "metadata": {
        "id": "cjaj0SUCYroj"
      },
      "source": [
        "Aqui temos o nosso modelo, onde os dois primeiros valores são as constantes geradas pelo modelo"
      ]
    },
    {
      "cell_type": "code",
      "execution_count": null,
      "metadata": {
        "id": "R8cEApjYX0eU"
      },
      "outputs": [],
      "source": [
        "'''\n",
        "#Colocar valores correspondentes as colunas\n",
        "predicted = regr.predict([['valorSemana', 'valorTRP', '...']])\n",
        "print(predicted)\n",
        "\n",
        "'''"
      ]
    },
    {
      "cell_type": "markdown",
      "metadata": {
        "id": "J8L0We8sJT6C"
      },
      "source": [
        "#### XGBoost\n"
      ]
    },
    {
      "cell_type": "code",
      "execution_count": null,
      "metadata": {
        "id": "77V6ph8OIWwd"
      },
      "outputs": [],
      "source": [
        "import xgboost as xgb"
      ]
    },
    {
      "cell_type": "code",
      "execution_count": null,
      "metadata": {
        "id": "4wBqBkkRIPyx"
      },
      "outputs": [],
      "source": [
        "#Primeira tentaiva\n",
        "\n",
        "# Instantiatethe XGBRegressor: modelo\n",
        "modelo = xgb.XGBRegressor(objective='reg:squarederror', seed=123, n_estimators=10)\n",
        "\n",
        "# Fit the regressor to the training set\n",
        "modelo.fit(X_train, y_train)\n",
        "\n",
        "# Predict the labels of the test set: preds\n",
        "y_pred = modelo.predict(X_test)\n",
        "y_pred"
      ]
    },
    {
      "cell_type": "code",
      "execution_count": null,
      "metadata": {
        "id": "CdEJM7ElIthZ"
      },
      "outputs": [],
      "source": [
        "# em metrics, temos quase todas as metricas geralmete utilizadas\n",
        "\n",
        "R2 = r2_score(y_test,y_pred)\n",
        "print(R2)"
      ]
    },
    {
      "cell_type": "code",
      "execution_count": null,
      "metadata": {
        "id": "-SsKTkPMIyPE"
      },
      "outputs": [],
      "source": [
        "# R² ajustado\n",
        "\n",
        "adjusted_r2(y_test,y_pred,X_train)"
      ]
    },
    {
      "cell_type": "code",
      "execution_count": null,
      "metadata": {
        "id": "OfZLijInJA0x"
      },
      "outputs": [],
      "source": [
        "MSE = mean_squared_error(y_test,y_pred)\n",
        "print(MSE)"
      ]
    },
    {
      "cell_type": "code",
      "execution_count": null,
      "metadata": {
        "id": "l5K5RQrmI4eB"
      },
      "outputs": [],
      "source": [
        "RMSE = mean_squared_error(y_test,y_pred,squared=False) \n",
        "# argumento 'squared' dado como false nos da o RMSE\n",
        "\n",
        "print(RMSE)"
      ]
    },
    {
      "cell_type": "code",
      "execution_count": null,
      "metadata": {
        "id": "Ss-N4OOFJC-2"
      },
      "outputs": [],
      "source": [
        "MAE = mean_absolute_error(y_test,y_pred)\n",
        "print(MAE)"
      ]
    },
    {
      "cell_type": "code",
      "execution_count": null,
      "metadata": {
        "id": "LCicMD4LJGzX"
      },
      "outputs": [],
      "source": [
        "MAPE = np.mean(np.abs((y_test - y_pred) / y_test)) * 100\n",
        "\n",
        "print(f\"Valor do MAPE dado em percentual: {MAPE}\")"
      ]
    },
    {
      "cell_type": "code",
      "execution_count": null,
      "metadata": {
        "id": "fs9eOM0eJ2v1"
      },
      "outputs": [],
      "source": [
        "#Segunda tentativa\n",
        "\n",
        "# Convert the training and testing sets into DMatrixes: DM_train, DM_test\n",
        "DM_train = xgb.DMatrix(data=X_train, label=y_train)\n",
        "DM_test = xgb.DMatrix(data=X_test, label=y_test)\n",
        "\n",
        "# Create the parameter dictionary: params\n",
        "params = {\"booster\":\"gblinear\", \"objective\":\"reg:squarederror\"}\n",
        "\n",
        "# Train the model: modelo\n",
        "modelo = xgb.train(params=params, dtrain=DM_train, num_boost_round=5)\n",
        "\n",
        "# Predict the labels of the test set: preds\n",
        "y_pred = modelo.predict(DM_test)\n",
        "y_pred"
      ]
    },
    {
      "cell_type": "code",
      "execution_count": null,
      "metadata": {
        "id": "EHztGJrFKEmW"
      },
      "outputs": [],
      "source": [
        "# em metrics, temos quase todas as metricas geralmete utilizadas\n",
        "\n",
        "R2 = r2_score(y_test,y_pred)\n",
        "print(R2)"
      ]
    },
    {
      "cell_type": "code",
      "execution_count": null,
      "metadata": {
        "id": "AUie-kykKGhw"
      },
      "outputs": [],
      "source": [
        "# R² ajustado\n",
        "\n",
        "adjusted_r2(y_test,y_pred,X_train)"
      ]
    },
    {
      "cell_type": "code",
      "execution_count": null,
      "metadata": {
        "id": "sZTp697RKH_5"
      },
      "outputs": [],
      "source": [
        "MSE = mean_squared_error(y_test,y_pred)\n",
        "print(MSE)"
      ]
    },
    {
      "cell_type": "code",
      "execution_count": null,
      "metadata": {
        "id": "KctWlOAlKKB4"
      },
      "outputs": [],
      "source": [
        "RMSE = mean_squared_error(y_test,y_pred,squared=False) \n",
        "# argumento 'squared' dado como false nos da o RMSE\n",
        "\n",
        "print(RMSE)"
      ]
    },
    {
      "cell_type": "code",
      "execution_count": null,
      "metadata": {
        "id": "waXatPhMKL7W"
      },
      "outputs": [],
      "source": [
        "MAE = mean_absolute_error(y_test,y_pred)\n",
        "print(MAE)"
      ]
    },
    {
      "cell_type": "code",
      "execution_count": null,
      "metadata": {
        "id": "9n0DH7pfKNsV"
      },
      "outputs": [],
      "source": [
        "MAPE = np.mean(np.abs((y_test - y_pred) / y_test)) * 100\n",
        "\n",
        "print(f\"Valor do MAPE dado em percentual: {MAPE}\")"
      ]
    },
    {
      "cell_type": "code",
      "execution_count": null,
      "metadata": {
        "id": "F92Eey9iLHUR"
      },
      "outputs": [],
      "source": [
        "MSE = mean_squared_error(y_test,y_pred)\n",
        "print(MSE)"
      ]
    },
    {
      "cell_type": "code",
      "execution_count": null,
      "metadata": {
        "id": "xwIoIrR8LIyn"
      },
      "outputs": [],
      "source": [
        "RMSE = mean_squared_error(y_test,y_pred,squared=False) \n",
        "# argumento 'squared' dado como false nos da o RMSE\n",
        "\n",
        "print(RMSE)"
      ]
    },
    {
      "cell_type": "code",
      "execution_count": null,
      "metadata": {
        "id": "tjF3JamuLKXq"
      },
      "outputs": [],
      "source": [
        "MAE = mean_absolute_error(y_test,y_pred)\n",
        "print(MAE)"
      ]
    },
    {
      "cell_type": "code",
      "execution_count": null,
      "metadata": {
        "id": "FP5ADPSXLLyA"
      },
      "outputs": [],
      "source": [
        "MAPE = np.mean(np.abs((y_test - y_pred) / y_test)) * 100\n",
        "\n",
        "print(f\"Valor do MAPE dado em percentual: {MAPE}\")"
      ]
    },
    {
      "cell_type": "code",
      "execution_count": null,
      "metadata": {
        "id": "1YmG0P_ILrEV"
      },
      "outputs": [],
      "source": [
        "### Quinta tentativa\n",
        "\n",
        "# Create the DMatrix: housing_dmatrix\n",
        "housing_dmatrix = xgb.DMatrix(data=X, label=y)\n",
        "\n",
        "# Create the parameter dictionary: params\n",
        "params = {\"objective\":\"reg:squarederror\", \"max_depth\":4}\n",
        "\n",
        "# Train the model: modelo\n",
        "modelo = xgb.train(dtrain=housing_dmatrix, params=params, num_boost_round=10)\n",
        "\n",
        "# Plot the feature importance\n",
        "xgb.plot_importance(modelo);\n",
        "plt.tight_layout()"
      ]
    },
    {
      "cell_type": "code",
      "execution_count": null,
      "metadata": {
        "id": "5B34fQrbMaj2"
      },
      "outputs": [],
      "source": [
        "# Predict the labels of the test set: preds\n",
        "y_pred = modelo.predict(DM_test)\n",
        "y_pred"
      ]
    },
    {
      "cell_type": "code",
      "execution_count": null,
      "metadata": {
        "id": "-6TtUJRML3Jy"
      },
      "outputs": [],
      "source": [
        "# em metrics, temos quase todas as metricas geralmete utilizadas\n",
        "\n",
        "R2 = r2_score(y_test,y_pred)\n",
        "print(R2)"
      ]
    },
    {
      "cell_type": "code",
      "execution_count": null,
      "metadata": {
        "id": "VRiA3S3iM1Qx"
      },
      "outputs": [],
      "source": [
        "# R² ajustado\n",
        "\n",
        "adjusted_r2(y_test,y_pred,X_train)"
      ]
    },
    {
      "cell_type": "code",
      "execution_count": null,
      "metadata": {
        "id": "5ecuco9bUcGk"
      },
      "outputs": [],
      "source": [
        "MSE = mean_squared_error(y_test,y_pred)\n",
        "print(MSE)"
      ]
    },
    {
      "cell_type": "code",
      "execution_count": null,
      "metadata": {
        "id": "27roMdjnUf0j"
      },
      "outputs": [],
      "source": [
        "RMSE = mean_squared_error(y_test,y_pred,squared=False) \n",
        "# argumento 'squared' dado como false nos da o RMSE\n",
        "\n",
        "print(RMSE)"
      ]
    },
    {
      "cell_type": "code",
      "execution_count": null,
      "metadata": {
        "id": "4dLKbG0PUfxl"
      },
      "outputs": [],
      "source": [
        "MAE = mean_absolute_error(y_test,y_pred)\n",
        "print(MAE)"
      ]
    },
    {
      "cell_type": "code",
      "execution_count": null,
      "metadata": {
        "id": "nh1r4FZ4UftA"
      },
      "outputs": [],
      "source": [
        "MAPE = np.mean(np.abs((y_test - y_pred) / y_test)) * 100\n",
        "\n",
        "print(f\"Valor do MAPE dado em percentual: {MAPE}\")"
      ]
    },
    {
      "cell_type": "markdown",
      "metadata": {
        "id": "7O3nhvj8cMZw"
      },
      "source": [
        "### Segundo dataset"
      ]
    },
    {
      "cell_type": "code",
      "execution_count": null,
      "metadata": {
        "id": "lQms-kS2cMZx"
      },
      "outputs": [],
      "source": [
        "df = pd.read_excel('/content/drive/MyDrive/Response Pronto 2.xlsx')\n",
        "df.head()"
      ]
    },
    {
      "cell_type": "code",
      "execution_count": null,
      "metadata": {
        "id": "2crj3AV7cMZz"
      },
      "outputs": [],
      "source": [
        "#Variáveis independentes\n",
        "X = df.drop(['Liquido'],axis=1)\n",
        "#Variável dependentes\n",
        "y = df['Liquido']\n",
        "\n",
        "X_train, X_test, y_train, y_test = train_test_split(X, y, test_size=0.2)"
      ]
    },
    {
      "cell_type": "code",
      "execution_count": null,
      "metadata": {
        "id": "mS3PsEAVcMZ1"
      },
      "outputs": [],
      "source": [
        "# Convert the training and testing sets into DMatrixes: DM_train, DM_test\n",
        "DM_train = xgb.DMatrix(data=X_train, label=y_train)\n",
        "DM_test = xgb.DMatrix(data=X_test, label=y_test)"
      ]
    },
    {
      "cell_type": "code",
      "execution_count": null,
      "metadata": {
        "id": "68qcumLkcMZ3"
      },
      "outputs": [],
      "source": [
        "# Create the DMatrix: housing_dmatrix\n",
        "housing_dmatrix = xgb.DMatrix(data=X, label=y)\n",
        "\n",
        "# Create the parameter dictionary: params\n",
        "params = {\"objective\":\"reg:squarederror\", \"max_depth\":4}\n",
        "\n",
        "# Train the model: modelo\n",
        "modelo = xgb.train(dtrain=housing_dmatrix, params=params, num_boost_round=10)\n",
        "\n",
        "# Plot the feature importance\n",
        "xgb.plot_importance(modelo);\n",
        "plt.tight_layout()"
      ]
    },
    {
      "cell_type": "code",
      "execution_count": null,
      "metadata": {
        "id": "LfsdS6QScMZ4"
      },
      "outputs": [],
      "source": [
        "# Predict the labels of the test set: preds\n",
        "y_pred = modelo.predict(DM_test)\n",
        "y_pred"
      ]
    },
    {
      "cell_type": "code",
      "execution_count": null,
      "metadata": {
        "id": "1cobRtRacMZ6"
      },
      "outputs": [],
      "source": [
        "# em metrics, temos quase todas as metricas geralmete utilizadas\n",
        "\n",
        "R2 = r2_score(y_test,y_pred)\n",
        "print(R2)"
      ]
    },
    {
      "cell_type": "code",
      "execution_count": null,
      "metadata": {
        "id": "snWPKc09cMZ8"
      },
      "outputs": [],
      "source": [
        "# R² ajustado\n",
        "\n",
        "adjusted_r2(y_test,y_pred,X_train)"
      ]
    },
    {
      "cell_type": "code",
      "execution_count": null,
      "metadata": {
        "id": "hCpDqWAdcMZ9"
      },
      "outputs": [],
      "source": [
        "MSE = mean_squared_error(y_test,y_pred)\n",
        "print(MSE)"
      ]
    },
    {
      "cell_type": "code",
      "execution_count": null,
      "metadata": {
        "id": "dm_5ItZ-cMZ-"
      },
      "outputs": [],
      "source": [
        "RMSE = mean_squared_error(y_test,y_pred,squared=False) \n",
        "# argumento 'squared' dado como false nos da o RMSE\n",
        "\n",
        "print(RMSE)"
      ]
    },
    {
      "cell_type": "code",
      "execution_count": null,
      "metadata": {
        "id": "SHQ72NpzcMZ_"
      },
      "outputs": [],
      "source": [
        "MAE = mean_absolute_error(y_test,y_pred)\n",
        "print(MAE)"
      ]
    },
    {
      "cell_type": "code",
      "execution_count": null,
      "metadata": {
        "id": "qWLsAhUMcMaC"
      },
      "outputs": [],
      "source": [
        "MAPE = np.mean(np.abs((y_test - y_pred) / y_test)) * 100\n",
        "\n",
        "print(f\"Valor do MAPE dado em percentual: {MAPE}\")"
      ]
    },
    {
      "cell_type": "markdown",
      "metadata": {
        "id": "46nOnJCGH8Ng"
      },
      "source": [
        "### Terceiro dataset"
      ]
    },
    {
      "cell_type": "code",
      "execution_count": null,
      "metadata": {
        "id": "99670BVE5o7B"
      },
      "outputs": [],
      "source": [
        "df = pd.read_excel('/content/drive/MyDrive/Response Pronto 3.xlsx')\n",
        "df.head()"
      ]
    },
    {
      "cell_type": "code",
      "execution_count": null,
      "metadata": {
        "id": "LMV-gidb5o4B"
      },
      "outputs": [],
      "source": [
        "#Variáveis independentes\n",
        "X = df.drop(['Liquido'],axis=1)\n",
        "#Variável dependentes\n",
        "y = df['Liquido']\n",
        "\n",
        "X_train, X_test, y_train, y_test = train_test_split(X, y, test_size=0.2)"
      ]
    },
    {
      "cell_type": "code",
      "execution_count": null,
      "metadata": {
        "id": "xFIshd-R5o1D"
      },
      "outputs": [],
      "source": [
        "# Convert the training and testing sets into DMatrixes: DM_train, DM_test\n",
        "DM_train = xgb.DMatrix(data=X_train, label=y_train)\n",
        "DM_test = xgb.DMatrix(data=X_test, label=y_test)"
      ]
    },
    {
      "cell_type": "code",
      "execution_count": null,
      "metadata": {
        "id": "VEwA6Ct75oyb"
      },
      "outputs": [],
      "source": [
        "# Create the DMatrix: housing_dmatrix\n",
        "housing_dmatrix = xgb.DMatrix(data=X, label=y)\n",
        "\n",
        "# Create the parameter dictionary: params\n",
        "params = {\"objective\":\"reg:squarederror\", \"max_depth\":4}\n",
        "\n",
        "# Train the model: modelo\n",
        "modelo = xgb.train(dtrain=housing_dmatrix, params=params, num_boost_round=10)\n",
        "\n",
        "# Plot the feature importance\n",
        "xgb.plot_importance(modelo);\n",
        "plt.tight_layout()"
      ]
    },
    {
      "cell_type": "code",
      "execution_count": null,
      "metadata": {
        "id": "pkDw_s-saPJ-"
      },
      "outputs": [],
      "source": [
        "# Predict the labels of the test set: preds\n",
        "y_pred = modelo.predict(DM_test)\n",
        "y_pred"
      ]
    },
    {
      "cell_type": "code",
      "execution_count": null,
      "metadata": {
        "id": "vXucY-VUaRwh"
      },
      "outputs": [],
      "source": [
        "# em metrics, temos quase todas as metricas geralmete utilizadas\n",
        "\n",
        "R2 = r2_score(y_test,y_pred)\n",
        "print(R2)"
      ]
    },
    {
      "cell_type": "code",
      "execution_count": null,
      "metadata": {
        "id": "FVveY-HJaUWG"
      },
      "outputs": [],
      "source": [
        "# R² ajustado\n",
        "\n",
        "adjusted_r2(y_test,y_pred,X_train)"
      ]
    },
    {
      "cell_type": "code",
      "execution_count": null,
      "metadata": {
        "id": "3A5lOU2RaWgM"
      },
      "outputs": [],
      "source": [
        "MSE = mean_squared_error(y_test,y_pred)\n",
        "print(MSE)"
      ]
    },
    {
      "cell_type": "code",
      "execution_count": null,
      "metadata": {
        "id": "zhAhZGntaYXY"
      },
      "outputs": [],
      "source": [
        "RMSE = mean_squared_error(y_test,y_pred,squared=False) \n",
        "# argumento 'squared' dado como false nos da o RMSE\n",
        "\n",
        "print(RMSE)"
      ]
    },
    {
      "cell_type": "code",
      "execution_count": null,
      "metadata": {
        "id": "LLTF_D5CaaIx"
      },
      "outputs": [],
      "source": [
        "MAE = mean_absolute_error(y_test,y_pred)\n",
        "print(MAE)"
      ]
    },
    {
      "cell_type": "code",
      "execution_count": null,
      "metadata": {
        "id": "M2UuIZLya-95"
      },
      "outputs": [],
      "source": [
        "MAPE = np.mean(np.abs((y_test - y_pred) / y_test)) * 100\n",
        "\n",
        "print(f\"Valor do MAPE dado em percentual: {MAPE}\")"
      ]
    },
    {
      "cell_type": "markdown",
      "metadata": {
        "id": "Il77xJGhbt0Q"
      },
      "source": [
        "### Quarto dataset"
      ]
    },
    {
      "cell_type": "code",
      "execution_count": null,
      "metadata": {
        "id": "kughmrOYbt0T"
      },
      "outputs": [],
      "source": [
        "df = pd.read_excel('/content/drive/MyDrive/Response Pronto 4.xlsx')\n",
        "df.head()"
      ]
    },
    {
      "cell_type": "code",
      "execution_count": null,
      "metadata": {
        "id": "1Is6KZh3bt0W"
      },
      "outputs": [],
      "source": [
        "#Variáveis independentes\n",
        "X = df.drop(['Liquido'],axis=1)\n",
        "#Variável dependentes\n",
        "y = df['Liquido']\n",
        "\n",
        "X_train, X_test, y_train, y_test = train_test_split(X, y, test_size=0.2)"
      ]
    },
    {
      "cell_type": "code",
      "execution_count": null,
      "metadata": {
        "id": "vJqcj4ZObt0Z"
      },
      "outputs": [],
      "source": [
        "# Convert the training and testing sets into DMatrixes: DM_train, DM_test\n",
        "DM_train = xgb.DMatrix(data=X_train, label=y_train)\n",
        "DM_test = xgb.DMatrix(data=X_test, label=y_test)"
      ]
    },
    {
      "cell_type": "code",
      "execution_count": null,
      "metadata": {
        "id": "8ADTkw9ebt0b"
      },
      "outputs": [],
      "source": [
        "# Create the DMatrix: housing_dmatrix\n",
        "housing_dmatrix = xgb.DMatrix(data=X, label=y)\n",
        "\n",
        "# Create the parameter dictionary: params\n",
        "params = {\"objective\":\"reg:squarederror\", \"max_depth\":4}\n",
        "\n",
        "# Train the model: modelo\n",
        "modelo = xgb.train(dtrain=housing_dmatrix, params=params, num_boost_round=10)\n",
        "\n",
        "# Plot the feature importance\n",
        "xgb.plot_importance(modelo);\n",
        "plt.tight_layout()"
      ]
    },
    {
      "cell_type": "code",
      "execution_count": null,
      "metadata": {
        "id": "g5Euvghxbt0d"
      },
      "outputs": [],
      "source": [
        "# Predict the labels of the test set: preds\n",
        "y_pred = modelo.predict(DM_test)\n",
        "y_pred"
      ]
    },
    {
      "cell_type": "code",
      "execution_count": null,
      "metadata": {
        "id": "1EbvbCWsbt0f"
      },
      "outputs": [],
      "source": [
        "# em metrics, temos quase todas as metricas geralmete utilizadas\n",
        "\n",
        "R2 = r2_score(y_test,y_pred)\n",
        "print(R2)"
      ]
    },
    {
      "cell_type": "code",
      "execution_count": null,
      "metadata": {
        "id": "z6hVPl1lbt0g"
      },
      "outputs": [],
      "source": [
        "# R² ajustado\n",
        "\n",
        "adjusted_r2(y_test,y_pred,X_train)"
      ]
    },
    {
      "cell_type": "code",
      "execution_count": null,
      "metadata": {
        "id": "2aKqXe_7bt0i"
      },
      "outputs": [],
      "source": [
        "MSE = mean_squared_error(y_test,y_pred)\n",
        "print(MSE)"
      ]
    },
    {
      "cell_type": "code",
      "execution_count": null,
      "metadata": {
        "id": "I0Bl-qpgbt0k"
      },
      "outputs": [],
      "source": [
        "RMSE = mean_squared_error(y_test,y_pred,squared=False) \n",
        "# argumento 'squared' dado como false nos da o RMSE\n",
        "\n",
        "print(RMSE)"
      ]
    },
    {
      "cell_type": "code",
      "execution_count": null,
      "metadata": {
        "id": "z6_NkYchbt0m"
      },
      "outputs": [],
      "source": [
        "MAE = mean_absolute_error(y_test,y_pred)\n",
        "print(MAE)"
      ]
    },
    {
      "cell_type": "code",
      "execution_count": null,
      "metadata": {
        "id": "x4tdRhK4bt0n"
      },
      "outputs": [],
      "source": [
        "MAPE = np.mean(np.abs((y_test - y_pred) / y_test)) * 100\n",
        "\n",
        "print(f\"Valor do MAPE dado em percentual: {MAPE}\")"
      ]
    },
    {
      "cell_type": "markdown",
      "metadata": {
        "id": "WvYkQSm9ftVC"
      },
      "source": [
        "## Teste"
      ]
    },
    {
      "cell_type": "code",
      "execution_count": null,
      "metadata": {
        "id": "SI9u8U63fufW"
      },
      "outputs": [],
      "source": [
        "df = pd.read_excel('/content/drive/MyDrive/Response Pronto 1.xlsx')\n",
        "df.head()"
      ]
    },
    {
      "cell_type": "code",
      "execution_count": null,
      "metadata": {
        "id": "5pQW9je0gd-L"
      },
      "outputs": [],
      "source": [
        "#Variáveis independentes\n",
        "X = df.drop(['Liquido'],axis=1)\n",
        "#Variável dependentes\n",
        "y = df['Liquido']\n",
        "\n",
        "X_train, X_test, y_train, y_test = train_test_split(X, y, test_size=0.2)"
      ]
    },
    {
      "cell_type": "code",
      "execution_count": null,
      "metadata": {
        "id": "G28d7IJBgBXO"
      },
      "outputs": [],
      "source": [
        "# Create the DMatrix: housing_dmatrix\n",
        "housing_dmatrix = xgb.DMatrix(data=X, label=y)\n",
        "\n",
        "# Create the parameter dictionary: params\n",
        "params = {\"objective\":\"reg:squarederror\", \"max_depth\":4}\n",
        "\n",
        "# Train the model: modelo\n",
        "modelo = xgb.train(dtrain=housing_dmatrix, params=params, num_boost_round=10)\n",
        "\n",
        "# Plot the feature importance\n",
        "xgb.plot_importance(modelo);\n",
        "plt.tight_layout()"
      ]
    },
    {
      "cell_type": "code",
      "execution_count": null,
      "metadata": {
        "id": "JWEW7Iddgp7U"
      },
      "outputs": [],
      "source": [
        "DM_test"
      ]
    },
    {
      "cell_type": "code",
      "source": [
        "print(DM_test)"
      ],
      "metadata": {
        "id": "43E43Eu_OLtJ"
      },
      "execution_count": null,
      "outputs": []
    },
    {
      "cell_type": "code",
      "execution_count": null,
      "metadata": {
        "id": "jHbkoR_KglUP"
      },
      "outputs": [],
      "source": [
        "teste = pd.read_excel('/content/drive/MyDrive/Mc - Copia.xlsx')\n",
        "teste.head()"
      ]
    },
    {
      "cell_type": "code",
      "source": [
        "teste1 = xgb.DMatrix(teste)\n",
        "teste1  "
      ],
      "metadata": {
        "id": "2MXoBMrZKT1Q"
      },
      "execution_count": null,
      "outputs": []
    },
    {
      "cell_type": "code",
      "source": [
        "# Predict the labels of the test set: preds\n",
        "y_pred = modelo.predict(teste1)\n",
        "y_pred"
      ],
      "metadata": {
        "id": "QQMv_AXzoTbv"
      },
      "execution_count": null,
      "outputs": []
    },
    {
      "cell_type": "code",
      "source": [
        "for i in y_pred:\n",
        "  print(i.round(0))"
      ],
      "metadata": {
        "id": "KXzuWY56UFBr"
      },
      "execution_count": null,
      "outputs": []
    },
    {
      "cell_type": "code",
      "source": [
        "result = pd.read_excel('/content/drive/MyDrive/Mc TRP liq.xls')\n",
        "result.values.tolist()"
      ],
      "metadata": {
        "id": "WXmDnA5sUb6E"
      },
      "execution_count": null,
      "outputs": []
    },
    {
      "cell_type": "code",
      "execution_count": null,
      "metadata": {
        "id": "eDvpg8Czgk7t"
      },
      "outputs": [],
      "source": [
        "# Predict the labels of the test set: preds\n",
        "y_pred1 = modelo.predict(DM_test)\n",
        "y_pred1"
      ]
    },
    {
      "cell_type": "code",
      "source": [
        "pred = pd.DataFrame(y_pred.round(0))\n",
        "pred.head()"
      ],
      "metadata": {
        "id": "3mdn0rqfJGJI"
      },
      "execution_count": null,
      "outputs": []
    },
    {
      "cell_type": "code",
      "source": [
        "semana = []\n",
        "j = 0\n",
        "for i in y_pred:\n",
        "  j += 1\n",
        "  semana.append(j)\n",
        "\n",
        "semana = pd.DataFrame(semana)\n",
        "semana.head()"
      ],
      "metadata": {
        "id": "R8xcPJEnKlMD"
      },
      "execution_count": null,
      "outputs": []
    },
    {
      "cell_type": "code",
      "source": [
        "df = pd.concat([semana, result, pred], axis=1, ignore_index=True)\n",
        "df.rename(columns={0: 'Semana', 1: 'Response', 2:'Predito'}, inplace=True)\n",
        "print(df)"
      ],
      "metadata": {
        "id": "hlnzmgOsKUeG"
      },
      "execution_count": null,
      "outputs": []
    },
    {
      "cell_type": "code",
      "source": [
        "import plotly.express as px\n",
        "\n",
        "fig = px.line(df, x='Semana', y=['Response', 'Predito'])\n",
        "fig.show()"
      ],
      "metadata": {
        "id": "SteIUxDLJpkM"
      },
      "execution_count": null,
      "outputs": []
    },
    {
      "cell_type": "markdown",
      "source": [
        "## Melhoria no melhor modelo."
      ],
      "metadata": {
        "id": "kxe1uHhNPxt2"
      }
    },
    {
      "cell_type": "code",
      "source": [
        "import xgboost as xgb\n",
        "from xgboost.sklearn import XGBRegressor\n",
        "import pandas as pd\n",
        "import numpy as np \n",
        "from sklearn.model_selection import train_test_split\n",
        "from sklearn.model_selection import GridSearchCV\n",
        "from sklearn.metrics import mean_squared_error\n",
        "from sklearn.metrics import mean_absolute_error\n",
        "import matplotlib.pyplot as plt\n",
        "\n",
        "from google.colab import drive\n",
        "drive.mount('/content/drive')\n",
        "df = pd.read_excel('/content/drive/MyDrive/Response Pronto 1.xlsx')\n",
        "\n",
        "X = df.drop(['Liquido'],axis=1)\n",
        "y = df['Liquido']"
      ],
      "metadata": {
        "id": "h2HX8E9tQgon"
      },
      "execution_count": null,
      "outputs": []
    },
    {
      "cell_type": "code",
      "source": [
        "\n",
        "'''\n",
        "X = df.drop(['Liquido'],axis=1)\n",
        "y = df['Liquido']\n",
        "\n",
        "X_train, X_test, y_train, y_test = train_test_split(X, y, test_size=0.2)\n",
        "\n",
        "# modelo\n",
        "housing_dmatrix = xgb.DMatrix(data=X, label=y)\n",
        "modelo = xgb.train(dtrain=housing_dmatrix, params = {\"objective\":\"reg:squarederror\"}, \n",
        "                   num_boost_round=10)\n",
        "parameters = {\n",
        "              'learning_rate': [0.3, 0.01, 0.03, 0.05, 0.07],\n",
        "              'subsample'    : [1, 0.9, 0.5, 0.2, 0.1],\n",
        "              'n_estimators' : [100,500,1000, 1500],\n",
        "              'max_depth'    : [2, 4, 6, 8, 10]\n",
        "             }\n",
        "\n",
        "grid = GridSearchCV(estimator=modelo, param_grid = parameters, cv = 2, n_jobs=-1)\n",
        "grid.fit(X_train, y_train)\n",
        "# Predict the labels of the test set: preds\n",
        "\n",
        "y_pred = modelo.predict(DM_test)\n",
        "MSE = mean_squared_error(y_test,y_pred)\n",
        "print(\"\\n Valor do MAE:\\n\",\n",
        "      MSE)\n",
        "MAPE = np.mean(np.abs((y_test - y_pred) / y_test)) * 100\n",
        "print(\"\\n Valor do MAPE dado em percentual:\\n\",\n",
        "      MAPE)\n",
        "MAE = mean_absolute_error(y_test,y_pred)\n",
        "print(\"\\n Valor do MAE:\\n\",\n",
        "      MAE)\n",
        "print()\n",
        "\n",
        "xgb.plot_importance(modelo);\n",
        "plt.tight_layout()\n",
        "'''"
      ],
      "metadata": {
        "id": "C0ntaHHGPzQ0"
      },
      "execution_count": null,
      "outputs": []
    },
    {
      "cell_type": "code",
      "source": [
        "X_train, X_test, y_train, y_test = train_test_split(X, y, test_size=0.2)\n",
        "\n",
        "# Modelo e Parametros do Grid\n",
        "modelo = XGBRegressor()\n",
        "modelo.fit(X_train, y_train)\n",
        "\n",
        "# Métricas de avaliação\n",
        "y_pred = modelo.predict(X_test)\n",
        "MSE = mean_squared_error(y_test,y_pred)\n",
        "print(\"\\n Valor do MSE:\\n\",\n",
        "      MSE)\n",
        "MAPE = np.mean(np.abs((y_test - y_pred) / y_test)) * 100\n",
        "print(\"\\n Valor do MAPE dado em percentual:\\n\",\n",
        "      MAPE)\n",
        "MAE = mean_absolute_error(y_test,y_pred)\n",
        "print(\"\\n Valor do MAE:\\n\",\n",
        "      MAE)\n",
        "print()\n",
        "\n",
        "xgb.plot_importance(modelo);\n",
        "plt.tight_layout()"
      ],
      "metadata": {
        "id": "9HJyo3vi0IlW"
      },
      "execution_count": null,
      "outputs": []
    },
    {
      "cell_type": "code",
      "source": [
        "result = pd.read_excel('/content/drive/MyDrive/Mc TRP liq.xls')\n",
        "pred = pd.DataFrame(y_pred.round(0))\n",
        "\n",
        "teste = pd.read_excel('/content/drive/MyDrive/Mc - Copia.xlsx')\n",
        "y_pred = modelo.predict(teste)\n",
        "\n",
        "semana = []\n",
        "j = 0\n",
        "for i in y_pred:\n",
        "  j += 1\n",
        "  semana.append(j)\n",
        "\n",
        "semana = pd.DataFrame(semana)\n",
        "\n",
        "df = pd.concat([semana, result, pred], axis=1, ignore_index=True)\n",
        "df.rename(columns={0: 'Semana', 1: 'Response', 2:'Predito'}, inplace=True)\n",
        "\n",
        "# Plot\n",
        "import plotly.express as px\n",
        "\n",
        "fig = px.line(df, x='Semana', y=['Response', 'Predito'])\n",
        "fig.show()"
      ],
      "metadata": {
        "id": "PdI6W7PD3C13"
      },
      "execution_count": null,
      "outputs": []
    },
    {
      "cell_type": "code",
      "source": [
        "df"
      ],
      "metadata": {
        "id": "RyK77_wa5oL4"
      },
      "execution_count": null,
      "outputs": []
    },
    {
      "cell_type": "code",
      "source": [
        "X_train, X_test, y_train, y_test = train_test_split(X, y, test_size=0.2)\n",
        "\n",
        "# Modelo \n",
        "params = {\"objective\":\"reg:squarederror\", \"max_depth\":4}\n",
        "\n",
        "# Train the model: modelo\n",
        "modelo = XGBRegressor(params=params)\n",
        "modelo.fit(X_train, y_train)\n",
        "\n",
        "# Métricas de avaliação\n",
        "y_pred = modelo.predict(X_test)\n",
        "MSE = mean_squared_error(y_test,y_pred)\n",
        "print(\"\\n Valor do MSE:\\n\",\n",
        "      MSE)\n",
        "MAPE = np.mean(np.abs((y_test - y_pred) / y_test)) * 100\n",
        "print(\"\\n Valor do MAPE dado em percentual:\\n\",\n",
        "      MAPE)\n",
        "MAE = mean_absolute_error(y_test,y_pred)\n",
        "print(\"\\n Valor do MAE:\\n\",\n",
        "      MAE)\n",
        "print()\n",
        "\n",
        "xgb.plot_importance(modelo);\n",
        "plt.tight_layout()"
      ],
      "metadata": {
        "id": "FS0Hltdl0Xw8"
      },
      "execution_count": null,
      "outputs": []
    },
    {
      "cell_type": "code",
      "source": [
        "result = pd.read_excel('/content/drive/MyDrive/Mc TRP liq.xls')\n",
        "pred = pd.DataFrame(y_pred.round(0))\n",
        "\n",
        "teste = pd.read_excel('/content/drive/MyDrive/Mc - Copia.xlsx')\n",
        "y_pred = modelo.predict(teste)\n",
        "\n",
        "semana = []\n",
        "j = 0\n",
        "for i in y_pred:\n",
        "  j += 1\n",
        "  semana.append(j)\n",
        "\n",
        "semana = pd.DataFrame(semana)\n",
        "\n",
        "df = pd.concat([semana, result, pred], axis=1, ignore_index=True)\n",
        "df.rename(columns={0: 'Semana', 1: 'Response', 2:'Predito'}, inplace=True)\n",
        "\n",
        "# Plot\n",
        "import plotly.express as px\n",
        "\n",
        "fig = px.line(df, x='Semana', y=['Response', 'Predito'])\n",
        "fig.show()"
      ],
      "metadata": {
        "id": "58aIAidQ3B83"
      },
      "execution_count": null,
      "outputs": []
    },
    {
      "cell_type": "code",
      "source": [
        "df"
      ],
      "metadata": {
        "id": "FuRArUaw5pGC"
      },
      "execution_count": null,
      "outputs": []
    },
    {
      "cell_type": "code",
      "source": [
        "'''\n",
        "\n",
        "X_train, X_test, y_train, y_test = train_test_split(X, y, test_size=0.2)\n",
        "\n",
        "# Modelo e Parametros do Grid\n",
        "modelo = XGBRegressor()\n",
        "parameters = {\n",
        "              'learning_rate': [0.3, 0.01, 0.03, 0.05, 0.07, 0.09],\n",
        "              'subsample'    : [1, 0.9, 0.5, 0.2, 0.1],\n",
        "              'n_estimators' : [100,500,1000, 1500, 2000, 2500, 3000],\n",
        "              'max_depth'    : [2, 4, 6, 8, 10]\n",
        "             }\n",
        "\n",
        "grid = GridSearchCV(estimator=modelo, param_grid = parameters, cv = 2, n_jobs=-1)\n",
        "grid.fit(X_train, y_train)\n",
        "\n",
        "modelo = XGBRegressor(params=grid.best_params_)\n",
        "modelo.fit(X_train, y_train)\n",
        "# Resultados do Grid\n",
        "print()\n",
        "print(\"Resultados do Grid Search \" )\n",
        "print()\n",
        "print(\"\\n The best estimator across ALL searched params:\\n\",\n",
        "      grid.best_estimator_)\n",
        "print(\"\\n The best score across ALL searched params:\\n\",\n",
        "      grid.best_score_)\n",
        "print(\"\\n The best parameters across ALL searched params:\\n\",\n",
        "      grid.best_params_)\n",
        "print()\n",
        "\n",
        "'''"
      ],
      "metadata": {
        "id": "L27jE9bCRYAV"
      },
      "execution_count": null,
      "outputs": []
    },
    {
      "cell_type": "code",
      "source": [
        "X_train, X_test, y_train, y_test = train_test_split(X, y, test_size=0.2)\n",
        "\n",
        "# Modelo e Parametros do Grid\n",
        "modelo = XGBRegressor()\n",
        "parameters = {'learning_rate': [0.09], \n",
        "              'max_depth': [2],  \n",
        "              'n_estimators': [3000, 4000], \n",
        "              'subsample': [1]}\n",
        "\n",
        "grid = GridSearchCV(estimator=modelo, param_grid = parameters, cv = 2, n_jobs=-1)\n",
        "grid.fit(X_train, y_train)\n",
        "\n",
        "modelo = XGBRegressor(params=grid.best_params_)\n",
        "modelo.fit(X_train, y_train)\n",
        "# Resultados do Grid\n",
        "print()\n",
        "print(\"Resultados do Grid Search \" )\n",
        "print()\n",
        "print(\"\\n The best estimator across ALL searched params:\\n\",\n",
        "      grid.best_estimator_)\n",
        "print(\"\\n The best score across ALL searched params:\\n\",\n",
        "      grid.best_score_)\n",
        "print(\"\\n The best parameters across ALL searched params:\\n\",\n",
        "      grid.best_params_)\n",
        "print()"
      ],
      "metadata": {
        "id": "n-g_LnltL2R5"
      },
      "execution_count": null,
      "outputs": []
    },
    {
      "cell_type": "markdown",
      "source": [
        "The best parameters across ALL searched params:\n",
        " {'learning_rate': 0.09, 'max_depth': 2, 'n_estimators': 3000, 'subsample': 1}"
      ],
      "metadata": {
        "id": "rR6C2FXNh8Uq"
      }
    },
    {
      "cell_type": "code",
      "source": [
        "# Métricas de avaliação\n",
        "y_pred = modelo.predict(X_test)\n",
        "MSE = mean_squared_error(y_test,y_pred)\n",
        "print(\"\\n Valor do MSE:\\n\",\n",
        "      MSE)\n",
        "MAPE = np.mean(np.abs((y_test - y_pred) / y_test)) * 100\n",
        "print(\"\\n Valor do MAPE dado em percentual:\\n\",\n",
        "      MAPE)\n",
        "MAE = mean_absolute_error(y_test,y_pred)\n",
        "print(\"\\n Valor do MAE:\\n\",\n",
        "      MAE)\n",
        "print()\n",
        "\n",
        "xgb.plot_importance(modelo);\n",
        "plt.tight_layout()"
      ],
      "metadata": {
        "id": "sEdpYxiidyLa"
      },
      "execution_count": null,
      "outputs": []
    },
    {
      "cell_type": "code",
      "source": [
        "result = pd.read_excel('/content/drive/MyDrive/Mc TRP liq.xls')\n",
        "pred = pd.DataFrame(y_pred.round(0))\n",
        "\n",
        "teste = pd.read_excel('/content/drive/MyDrive/Mc - Copia.xlsx')\n",
        "y_pred = modelo.predict(teste)\n",
        "\n",
        "semana = []\n",
        "j = 0\n",
        "for i in y_pred:\n",
        "  j += 1\n",
        "  semana.append(j)\n",
        "\n",
        "semana = pd.DataFrame(semana)\n",
        "\n",
        "df = pd.concat([semana, result, pred], axis=1, ignore_index=True)\n",
        "df.rename(columns={0: 'Semana', 1: 'Response', 2:'Predito'}, inplace=True)\n",
        "\n",
        "# Plot\n",
        "import plotly.express as px\n",
        "\n",
        "fig = px.line(df, x='Semana', y=['Response', 'Predito'])\n",
        "fig.show()"
      ],
      "metadata": {
        "id": "bubU9b9XlQnL"
      },
      "execution_count": null,
      "outputs": []
    },
    {
      "cell_type": "code",
      "source": [
        "df"
      ],
      "metadata": {
        "id": "otZN6RXdUEuP"
      },
      "execution_count": null,
      "outputs": []
    },
    {
      "cell_type": "markdown",
      "source": [
        "COM PENALIZAÇÃO"
      ],
      "metadata": {
        "id": "pwoE0FLdF3uE"
      }
    },
    {
      "cell_type": "markdown",
      "source": [
        "Semana 6 - Predito ta 22.7% maior<br />\n",
        "Semana 7 - Predito ta 29.1% maior<br />\n",
        "Semana 8 - Predito ta 28.2% maior<br />\n",
        "Semana 9 - Predito ta 21.5% maior<br />\n",
        "Semana 10 - Predito ta 23.1% maior<br />\n",
        "Semana 11 - Predito ta 24.3% maior<br />\n",
        "Semana 12 - Predito ta 24.1% maior<br />\n",
        "Semana 13 - Predito ta 25% maior<br />\n",
        "Semana 14 - Predito ta 26.3% maior<br />\n",
        "Semana 15 - Predito ta 23.9% maior<br />\n",
        "Semana 16 - Predito ta 28.6% maior<br />\n",
        "Semana 17 - Predito ta 33.6% maior<br />\n",
        "Semana 18 - Predito ta 28.4% maior<br />\n",
        "Semana 19 - Predito ta 26.9% maior<br /><br />\n",
        "\n",
        "\n",
        "Testar média (26.2) e média sem o menor e o maior valor (26)."
      ],
      "metadata": {
        "id": "W4H3qfAFQt51"
      }
    },
    {
      "cell_type": "code",
      "source": [
        "result = pd.read_excel('/content/drive/MyDrive/Mc TRP liq.xls')\n",
        "\n",
        "teste = pd.read_excel('/content/drive/MyDrive/Mc - Copia.xlsx')\n",
        "y_pred = modelo.predict(teste)\n",
        "y_pred = list(y_pred)\n",
        "for i in y_pred[5:]:\n",
        "    y_pred[y_pred.index(i)] = i-(i*0.26)\n",
        "\n",
        "y_pred = [round(item, 0) for item in y_pred]\n",
        "\n",
        "pred = pd.DataFrame(y_pred)\n",
        "\n",
        "\n",
        "semana = []\n",
        "j = 0\n",
        "for i in y_pred:\n",
        "  j += 1\n",
        "  semana.append(j)\n",
        "\n",
        "semana = pd.DataFrame(semana)\n",
        "\n",
        "df = pd.concat([semana, result, pred], axis=1, ignore_index=True)\n",
        "df.rename(columns={0: 'Semana', 1: 'Response', 2:'Predito'}, inplace=True)\n",
        "\n",
        "# Plot\n",
        "import plotly.express as px\n",
        "\n",
        "fig = px.line(df, x='Semana', y=['Response', 'Predito'])\n",
        "fig.show()"
      ],
      "metadata": {
        "id": "fqpbV-u_TSHb"
      },
      "execution_count": null,
      "outputs": []
    },
    {
      "cell_type": "code",
      "source": [
        "import pickle\n",
        "pickle.dump(modelo, open('modelo_trp.pkl', 'wb'))\n",
        "\n",
        "''' load \n",
        "\n",
        "pickled_model = pickle.load(open('model.pkl', 'rb'))\n",
        "pickled_model.predict(X_test)\n",
        "\n",
        "'''"
      ],
      "metadata": {
        "id": "3vIDGpnQb7Gk"
      },
      "execution_count": null,
      "outputs": []
    },
    {
      "cell_type": "code",
      "source": [
        "df"
      ],
      "metadata": {
        "id": "xRJQTzUPmxDV"
      },
      "execution_count": null,
      "outputs": []
    },
    {
      "cell_type": "markdown",
      "source": [
        "COM AJUSTES E PENALIZAÇÃO"
      ],
      "metadata": {
        "id": "3yfOfwNnF6i0"
      }
    },
    {
      "cell_type": "code",
      "source": [
        "result = pd.read_excel('/content/drive/MyDrive/Mc TRP liq.xls')\n",
        "\n",
        "teste = pd.read_excel('/content/drive/MyDrive/Mc - Copia.xlsx')\n",
        "y_pred = list(y_pred)\n",
        "y_pred[0] = teste['TRP'][0]\n",
        "y_pred[1] = y_pred[1]-(y_pred[1]*0.35)\n",
        "for i in y_pred[5:]:\n",
        "    y_pred[y_pred.index(i)] = i-(i*0.26) #0.26 é o original\n",
        "\n",
        "y_pred = [round(item, 0) for item in y_pred]\n",
        "\n",
        "pred = pd.DataFrame(y_pred)\n",
        "\n",
        "\n",
        "semana = []\n",
        "j = 0\n",
        "for i in y_pred:\n",
        "  j += 1\n",
        "  semana.append(j)\n",
        "\n",
        "semana = pd.DataFrame(semana)\n",
        "\n",
        "df = pd.concat([semana, result, pred], axis=1, ignore_index=True)\n",
        "df.rename(columns={0: 'Semana', 1: 'Response', 2:'Predito'}, inplace=True)\n",
        "\n",
        "# Plot\n",
        "import plotly.express as px\n",
        "\n",
        "fig = px.line(df, x='Semana', y=['Response', 'Predito'])\n",
        "fig.show()"
      ],
      "metadata": {
        "id": "_i2S43GZF8nB"
      },
      "execution_count": null,
      "outputs": []
    },
    {
      "cell_type": "code",
      "source": [
        "df"
      ],
      "metadata": {
        "id": "p5xSS3bTF9YQ"
      },
      "execution_count": null,
      "outputs": []
    },
    {
      "cell_type": "markdown",
      "source": [
        "#### KAVAK"
      ],
      "metadata": {
        "id": "FTr_a71yGARr"
      }
    },
    {
      "cell_type": "code",
      "source": [
        "teste = pd.read_excel('/content/drive/MyDrive/KVK TRP.xlsx')\n",
        "y_pred = modelo.predict(teste)\n",
        "s_cor = pd.DataFrame(y_pred)\n",
        "y_pred = list(y_pred)\n",
        "y_pred[0] = teste['TRP'][0]\n",
        "y_pred[1] = y_pred[1]-(y_pred[1]*0.35)\n",
        "for i in y_pred[5:]:\n",
        "    y_pred[y_pred.index(i)] = i-(i*0.26) #0.26 é o original\n",
        "\n",
        "y_pred = [round(item, 0) for item in y_pred]\n",
        "\n",
        "pred = pd.DataFrame(y_pred)\n",
        "\n",
        "\n",
        "semana = []\n",
        "j = 0\n",
        "for i in y_pred:\n",
        "  j += 1\n",
        "  semana.append(j)\n",
        "\n",
        "semana = pd.DataFrame(semana)\n",
        "\n",
        "df = pd.concat([semana, s_cor, pred], axis=1, ignore_index=True)\n",
        "df.rename(columns={0: 'Semana', 1:'Sem Correção', 2:'Predito'}, inplace=True)\n",
        "\n",
        "# Plot\n",
        "import plotly.express as px\n",
        "\n",
        "fig = px.line(df, x='Semana', y=['Sem Correção', 'Predito'])\n",
        "fig.show()"
      ],
      "metadata": {
        "id": "Nn0VoX1_HIj5"
      },
      "execution_count": null,
      "outputs": []
    },
    {
      "cell_type": "code",
      "source": [
        "df"
      ],
      "metadata": {
        "id": "W-BhebtLHVFt"
      },
      "execution_count": null,
      "outputs": []
    },
    {
      "cell_type": "code",
      "source": [
        "teste = pd.read_excel('/content/drive/MyDrive/KVK TRP.xlsx')\n",
        "y_pred = modelo.predict(teste)\n",
        "s_cor = pd.DataFrame(y_pred)\n",
        "y_pred = list(y_pred)\n",
        "y_pred[0] = teste['TRP'][0]\n",
        "y_pred[1] = y_pred[1]-(y_pred[1]*0.35)\n",
        "for i in y_pred[5:]:\n",
        "    y_pred[y_pred.index(i)] = i-(i*0.28) #0.26 é o original\n",
        "\n",
        "y_pred = [round(item, 0) for item in y_pred]\n",
        "\n",
        "pred = pd.DataFrame(y_pred)\n",
        "\n",
        "\n",
        "semana = []\n",
        "j = 0\n",
        "for i in y_pred:\n",
        "  j += 1\n",
        "  semana.append(j)\n",
        "\n",
        "semana = pd.DataFrame(semana)\n",
        "\n",
        "df = pd.concat([semana, s_cor, pred], axis=1, ignore_index=True)\n",
        "df.rename(columns={0: 'Semana', 1:'Sem Correção', 2:'Predito'}, inplace=True)\n",
        "\n",
        "  # Plot\n",
        "import plotly.express as px\n",
        "\n",
        "fig = px.line(df, x='Semana', y=['Sem Correção', 'Predito'])\n",
        "fig.show()"
      ],
      "metadata": {
        "id": "iLJtlukIkYGa"
      },
      "execution_count": null,
      "outputs": []
    },
    {
      "cell_type": "code",
      "source": [
        "df"
      ],
      "metadata": {
        "id": "BUfguT4mUbSZ"
      },
      "execution_count": null,
      "outputs": []
    },
    {
      "cell_type": "code",
      "source": [
        "final = teste.merge(df, left_on='Semana', right_on='Semana')\n",
        "final.rename(columns={'Predito': 'Liquido'}, inplace = True)\n",
        "final[['Semana', 'TRP', 'Acumulado', 'Liquido']]"
      ],
      "metadata": {
        "id": "OK2K1bj5Ajnf"
      },
      "execution_count": null,
      "outputs": []
    },
    {
      "cell_type": "code",
      "source": [
        "fig = px.line(final, x='Semana', y=['TRP', 'Acumulado', 'Liquido'])\n",
        "fig.show()"
      ],
      "metadata": {
        "id": "qGj7w0mxHdmy"
      },
      "execution_count": null,
      "outputs": []
    },
    {
      "cell_type": "code",
      "source": [
        "df_final = final[['Semana', 'TRP', 'Acumulado', 'Liquido']]\n",
        "\n",
        "df_final.to_excel('KVK TRP Liq.xlsx', index=False)"
      ],
      "metadata": {
        "id": "g96B9tIEWkms"
      },
      "execution_count": null,
      "outputs": []
    },
    {
      "cell_type": "markdown",
      "source": [
        "#### Kavak 2"
      ],
      "metadata": {
        "id": "UmKg7TphclTZ"
      }
    },
    {
      "cell_type": "code",
      "source": [
        "import xgboost as xgb\n",
        "from xgboost.sklearn import XGBRegressor\n",
        "import pandas as pd\n",
        "import numpy as np \n",
        "from sklearn.model_selection import train_test_split\n",
        "from sklearn.model_selection import GridSearchCV\n",
        "from sklearn.metrics import mean_squared_error\n",
        "from sklearn.metrics import mean_absolute_error\n",
        "import matplotlib.pyplot as plt\n",
        "import pickle\n",
        "\n",
        "from google.colab import drive\n",
        "drive.mount('/content/drive')\n",
        "pickled_model = pickle.load(open('/content/drive/MyDrive/modelo_trp.pkl', 'rb'))"
      ],
      "metadata": {
        "id": "Zm_CYuNl3TNl"
      },
      "execution_count": null,
      "outputs": []
    },
    {
      "cell_type": "code",
      "source": [
        "teste = pd.read_excel('/content/drive/MyDrive/KVK TRP 3.xlsx')\n",
        "y_pred = my_pred = pickled_model.predict(teste)\n",
        "s_cor = pd.DataFrame(y_pred)\n",
        "y_pred = list(y_pred)\n",
        "y_pred[0] = teste['TRP'][0]\n",
        "y_pred[1] = y_pred[1]-(y_pred[1]*0.35)\n",
        "y_pred[2] = y_pred[2]-(y_pred[2]*0.35)\n",
        "for i in y_pred[5:]:\n",
        "    y_pred[y_pred.index(i)] = i-(i*0.26) #0.26 é o original\n",
        "\n",
        "y_pred = [round(item, 0) for item in y_pred]\n",
        "\n",
        "pred = pd.DataFrame(y_pred)\n",
        "\n",
        "\n",
        "semana = []\n",
        "j = 0\n",
        "for i in y_pred:\n",
        "  j += 1\n",
        "  semana.append(j)\n",
        "\n",
        "semana = pd.DataFrame(semana)\n",
        "\n",
        "df = pd.concat([semana, s_cor, pred], axis=1, ignore_index=True)\n",
        "df.rename(columns={0: 'Semana', 1:'Sem Correção', 2:'Predito'}, inplace=True)\n",
        "\n",
        "# Plot\n",
        "import plotly.express as px\n",
        "\n",
        "fig = px.line(df, x='Semana', y=['Sem Correção', 'Predito'])\n",
        "fig.show()"
      ],
      "metadata": {
        "id": "7zBtrk004w1i"
      },
      "execution_count": null,
      "outputs": []
    },
    {
      "cell_type": "code",
      "source": [
        "teste = pd.read_excel('/content/drive/MyDrive/KVK TRP 3.xlsx')\n",
        "y_pred = my_pred = pickled_model.predict(teste)\n",
        "s_cor = pd.DataFrame(y_pred)\n",
        "y_pred = list(y_pred)\n",
        "y_pred[0] = teste['TRP'][0]\n",
        "y_pred[1] = y_pred[1]-(y_pred[1]*0.35)\n",
        "y_pred[2] = y_pred[2]-(y_pred[2]*0.35)\n",
        "for i in y_pred[5:]:\n",
        "    y_pred[y_pred.index(i)] = i-(i*0.28) #0.26 é o original\n",
        "\n",
        "y_pred = [round(item, 0) for item in y_pred]\n",
        "\n",
        "pred = pd.DataFrame(y_pred)\n",
        "\n",
        "\n",
        "semana = []\n",
        "j = 0\n",
        "for i in y_pred:\n",
        "  j += 1\n",
        "  semana.append(j)\n",
        "\n",
        "semana = pd.DataFrame(semana)\n",
        "\n",
        "df = pd.concat([semana, s_cor, pred], axis=1, ignore_index=True)\n",
        "df.rename(columns={0: 'Semana', 1:'Sem Correção', 2:'Predito'}, inplace=True)\n",
        "\n",
        "# Plot\n",
        "import plotly.express as px\n",
        "\n",
        "fig = px.line(df, x='Semana', y=['Sem Correção', 'Predito'])\n",
        "fig.show()"
      ],
      "metadata": {
        "id": "JcYp0Spucmzm"
      },
      "execution_count": null,
      "outputs": []
    },
    {
      "cell_type": "code",
      "source": [
        "y_pred"
      ],
      "metadata": {
        "id": "ml4_BSSBAEzw"
      },
      "execution_count": null,
      "outputs": []
    },
    {
      "cell_type": "code",
      "source": [
        "df"
      ],
      "metadata": {
        "id": "HjOruYLvc19o"
      },
      "execution_count": null,
      "outputs": []
    },
    {
      "cell_type": "code",
      "source": [
        "final = teste.merge(df, left_on='Semana', right_on='Semana')\n",
        "final.rename(columns={'Predito': 'Liquido'}, inplace = True)\n",
        "final[['Semana', 'TRP', 'Acumulado', 'Liquido']]"
      ],
      "metadata": {
        "id": "_54452Vpc46d"
      },
      "execution_count": null,
      "outputs": []
    },
    {
      "cell_type": "code",
      "source": [
        "fig = px.line(final, x='Semana', y=['TRP', 'Acumulado', 'Liquido'])\n",
        "fig.show()"
      ],
      "metadata": {
        "id": "rsajpRKldPZC"
      },
      "execution_count": null,
      "outputs": []
    },
    {
      "cell_type": "code",
      "source": [
        "df_final = final[['Semana', 'TRP', 'Acumulado', 'Liquido']]\n",
        "\n",
        "df_final.to_excel('KVK TRP Liq3.xlsx', index=False)"
      ],
      "metadata": {
        "id": "fhXy3Xf1e8k3"
      },
      "execution_count": null,
      "outputs": []
    },
    {
      "cell_type": "markdown",
      "source": [
        "## Modelos com regularização"
      ],
      "metadata": {
        "id": "LUYOchzDePzw"
      }
    },
    {
      "cell_type": "code",
      "source": [
        "from sklearn.linear_model import Ridge\n",
        "from sklearn.linear_model import LassoCV\n",
        "import pandas as pd\n",
        "import numpy as np \n",
        "from sklearn.model_selection import train_test_split\n",
        "from sklearn.model_selection import GridSearchCV\n",
        "from sklearn.metrics import mean_squared_error\n",
        "from sklearn.metrics import mean_absolute_error\n",
        "import matplotlib.pyplot as plt\n",
        "\n",
        "from google.colab import drive\n",
        "drive.mount('/content/drive')\n",
        "df = pd.read_excel('/content/drive/MyDrive/Response Pronto 1.xlsx')\n",
        "\n",
        "X = df.drop(['Liquido'],axis=1)\n",
        "y = df['Liquido']"
      ],
      "metadata": {
        "id": "5HOH4HANeSAH"
      },
      "execution_count": null,
      "outputs": []
    },
    {
      "cell_type": "code",
      "source": [
        "from sklearn.preprocessing import StandardScaler\n",
        "from sklearn.pipeline import make_pipeline\n",
        "from sklearn.linear_model import RidgeCV\n",
        "\n",
        "X_train, X_test, y_train, y_test = train_test_split(X, y, test_size=0.2)\n",
        "\n",
        "alphas = [0.01, 0.1, 1.0, 10.0] # alphas é como o sklearn chama o lambda\n",
        "\n",
        "modelo = make_pipeline(StandardScaler(with_mean=False), RidgeCV(alphas=alphas))\n",
        "#clf = RidgeCV(alphas=alphas, normalize=True)\n",
        "modelo.fit(X_train, y_train)"
      ],
      "metadata": {
        "id": "11PhKeVyex7L"
      },
      "execution_count": null,
      "outputs": []
    },
    {
      "cell_type": "code",
      "source": [
        "# Métricas de avaliação\n",
        "y_pred = modelo.predict(X_test)\n",
        "MSE = mean_squared_error(y_test,y_pred)\n",
        "print(\"\\n Valor do MSE:\\n\",\n",
        "      MSE)\n",
        "MAPE = np.mean(np.abs((y_test - y_pred) / y_test)) * 100\n",
        "print(\"\\n Valor do MAPE dado em percentual:\\n\",\n",
        "      MAPE)\n",
        "MAE = mean_absolute_error(y_test,y_pred)\n",
        "print(\"\\n Valor do MAE:\\n\",\n",
        "      MAE)\n",
        "print()"
      ],
      "metadata": {
        "id": "4kHWx5b30922"
      },
      "execution_count": null,
      "outputs": []
    },
    {
      "cell_type": "code",
      "source": [
        "X_train, X_test, y_train, y_test = train_test_split(X, y, test_size=0.2)\n",
        "\n",
        "alphas = [0.01, 0.1, 1.0, 10.0] # alphas é como o sklearn chama o lambda\n",
        "\n",
        "modelo = make_pipeline(StandardScaler(with_mean=False), LassoCV(alphas=alphas))\n",
        "#clf = RidgeCV(alphas=alphas, normalize=True)\n",
        "modelo.fit(X_train, y_train)"
      ],
      "metadata": {
        "id": "0YUO1DGg11iQ"
      },
      "execution_count": null,
      "outputs": []
    },
    {
      "cell_type": "code",
      "source": [
        "# Métricas de avaliação\n",
        "y_pred = modelo.predict(X_test)\n",
        "MSE = mean_squared_error(y_test,y_pred)\n",
        "print(\"\\n Valor do MSE:\\n\",\n",
        "      MSE)\n",
        "MAPE = np.mean(np.abs((y_test - y_pred) / y_test)) * 100\n",
        "print(\"\\n Valor do MAPE dado em percentual:\\n\",\n",
        "      MAPE)\n",
        "MAE = mean_absolute_error(y_test,y_pred)\n",
        "print(\"\\n Valor do MAE:\\n\",\n",
        "      MAE)\n",
        "print()"
      ],
      "metadata": {
        "id": "tlLLcPSL4YcB"
      },
      "execution_count": null,
      "outputs": []
    },
    {
      "cell_type": "markdown",
      "source": [
        "## Series Temporais"
      ],
      "metadata": {
        "id": "ZN48CsRpA7Qu"
      }
    },
    {
      "cell_type": "markdown",
      "source": [
        "### Analise de estacionariedade"
      ],
      "metadata": {
        "id": "LZE3Jw9E62xf"
      }
    },
    {
      "cell_type": "code",
      "source": [
        "import pandas as pd\n",
        "import numpy as np \n",
        "\n",
        "\n",
        "import seaborn as sns  \n",
        "import matplotlib.pyplot as plt \n",
        "\n",
        "\n",
        "from google.colab import drive\n",
        "drive.mount('/content/drive')\n",
        "df = pd.read_excel('/content/drive/MyDrive/Response Pronto 1.xlsx')\n",
        "\n",
        "X = df.drop(['Liquido'],axis=1)\n",
        "y = df['Liquido']\n",
        "yt = df[['Semana', 'Liquido']]"
      ],
      "metadata": {
        "id": "zcIq-fPOwkrz"
      },
      "execution_count": null,
      "outputs": []
    },
    {
      "cell_type": "code",
      "source": [
        "sample_len = round(len(y) / 2) \n",
        "p1 = y[0:sample_len] \n",
        "p2 = y[sample_len:] \n",
        "\n",
        "print(f\"p1 -> Media: {p1.mean()} | Variancia {p1.var()}\")\n",
        "print() \n",
        "print(f\"p2 -> Media: {p2.mean()} | Variancia {p2.var()}\") "
      ],
      "metadata": {
        "id": "WsTNVC1P6z4u"
      },
      "execution_count": null,
      "outputs": []
    },
    {
      "cell_type": "code",
      "source": [
        "df1 = y.pct_change(1)*100\n",
        "sns.set(color_codes=True)\n",
        "sns.set_context(\"paper\",font_scale=2)\n",
        "sns.set_style(\"white\")\n",
        "df1.plot(figsize=(20,8));"
      ],
      "metadata": {
        "id": "hTaorqya1xCf"
      },
      "execution_count": null,
      "outputs": []
    },
    {
      "cell_type": "code",
      "source": [
        "df1.hist();"
      ],
      "metadata": {
        "id": "W-qxFAjUA9IR"
      },
      "execution_count": null,
      "outputs": []
    },
    {
      "cell_type": "code",
      "source": [
        "from statsmodels.tsa.stattools import adfuller   \n",
        "\n",
        "result = adfuller(y) \n",
        "print('ADF Statistic: %f' % result[0]) \n",
        "print('p-value: %f' % result[1]) \n",
        "print('Critical Values:')   \n",
        "\n",
        "for key, value in result[4].items():\n",
        "     print('\\t%s: %.3f' % (key, value))"
      ],
      "metadata": {
        "id": "-RxxSst719h5"
      },
      "execution_count": null,
      "outputs": []
    },
    {
      "cell_type": "markdown",
      "source": [
        "Para o dataset, o valor do ADF é -5.2 que é menor do que os valores tabelados (5%) e o p-value é menor que 0.05 também. Logo temos um alto grau de confiança em que a série é estacionária."
      ],
      "metadata": {
        "id": "s3wOhnliAp93"
      }
    },
    {
      "cell_type": "code",
      "source": [
        "df1 = yt.pct_change(1)*100\n",
        "sns.set(color_codes=True)\n",
        "sns.set_context(\"paper\",font_scale=2)\n",
        "sns.set_style(\"white\")\n",
        "df1.plot(figsize=(20,8));"
      ],
      "metadata": {
        "id": "8zBAh8erXqGX"
      },
      "execution_count": null,
      "outputs": []
    },
    {
      "cell_type": "code",
      "source": [],
      "metadata": {
        "id": "k4rLJP6qbflr"
      },
      "execution_count": null,
      "outputs": []
    },
    {
      "cell_type": "code",
      "source": [
        "df1.hist();"
      ],
      "metadata": {
        "id": "7cJ18TAhXqtV"
      },
      "execution_count": null,
      "outputs": []
    },
    {
      "cell_type": "code",
      "source": [
        "result = adfuller(yt) \n",
        "print('ADF Statistic: %f' % result[0]) \n",
        "print('p-value: %f' % result[1]) \n",
        "print('Critical Values:')   \n",
        "\n",
        "for key, value in result[4].items():\n",
        "     print('\\t%s: %.3f' % (key, value))"
      ],
      "metadata": {
        "id": "9gtwuMjpXu3A"
      },
      "execution_count": null,
      "outputs": []
    },
    {
      "cell_type": "markdown",
      "source": [
        "### ARIMA"
      ],
      "metadata": {
        "id": "414EKodsIjHc"
      }
    },
    {
      "cell_type": "markdown",
      "source": [
        "Aplicando ACF (Autocorrelação) e PACF (Autocorrelação Parcial)."
      ],
      "metadata": {
        "id": "H7MvEMz5IlCw"
      }
    },
    {
      "cell_type": "code",
      "source": [
        "from statsmodels.tsa.stattools import acf, pacf\n",
        "\n",
        "df_diff = y.diff(1)\n",
        "\n",
        "lag_acf = acf(df_diff.dropna(), nlags=25)\n",
        "lag_pacf = pacf(df_diff.dropna(), nlags=25)"
      ],
      "metadata": {
        "id": "G-3ZwI4N-369"
      },
      "execution_count": null,
      "outputs": []
    },
    {
      "cell_type": "code",
      "source": [
        "# plotar ACF e PACF\n",
        "\n",
        "from matplotlib.pyplot import figure\n",
        "\n",
        "figure(figsize=(8, 6), dpi=80)\n",
        "plt.plot(lag_acf)\n",
        "plt.axhline(y=-1.96 / (np.sqrt((len(df_diff) - 1))), linestyle='--', color='gray', linewidth=0.7)\n",
        "plt.axhline(y=0, linestyle='--', color='gray', linewidth=0.7)\n",
        "plt.axhline(y=1.96 / (np.sqrt((len(df_diff) - 1))), linestyle='--', color='gray', linewidth=0.7)\n",
        "plt.title(\"Autocorrelação\")\n",
        "plt.show()\n",
        "\n",
        "print()\n",
        "\n",
        "figure(figsize=(8, 6), dpi=80)\n",
        "plt.plot(lag_pacf)\n",
        "plt.axhline(y=-1.96 / (np.sqrt((len(df_diff) - 1))), linestyle='--', color='gray', linewidth=0.7)\n",
        "plt.axhline(y=0, linestyle='--', color='gray', linewidth=0.7)\n",
        "plt.axhline(y=1.96 / (np.sqrt((len(df_diff) - 1))), linestyle='--', color='gray', linewidth=0.7)\n",
        "plt.title(\"Autocorrelação Parcial\")\n",
        "plt.show()"
      ],
      "metadata": {
        "id": "ZeO86_-gIzzq"
      },
      "execution_count": null,
      "outputs": []
    },
    {
      "cell_type": "markdown",
      "source": [
        "# Uso"
      ],
      "metadata": {
        "id": "4bmvDEzepYgG"
      }
    },
    {
      "cell_type": "code",
      "source": [
        "import xgboost as xgb\n",
        "from xgboost.sklearn import XGBRegressor\n",
        "import pandas as pd\n",
        "import numpy as np \n",
        "from sklearn.model_selection import train_test_split\n",
        "from sklearn.model_selection import GridSearchCV\n",
        "from sklearn.metrics import mean_squared_error\n",
        "from sklearn.metrics import mean_absolute_error\n",
        "import matplotlib.pyplot as plt\n",
        "import pickle\n",
        "\n",
        "pickled_model = pickle.load(open('/content/drive/MyDrive/modelo_trp.pkl', 'rb'))"
      ],
      "metadata": {
        "id": "9P44hF6vKGpF",
        "colab": {
          "base_uri": "https://localhost:8080/"
        },
        "outputId": "852ee0fe-2b54-45eb-98fa-f7c5f138ab1e"
      },
      "execution_count": null,
      "outputs": [
        {
          "output_type": "stream",
          "name": "stdout",
          "text": [
            "[19:33:43] WARNING: /workspace/src/objective/regression_obj.cu:152: reg:linear is now deprecated in favor of reg:squarederror.\n"
          ]
        }
      ]
    },
    {
      "cell_type": "code",
      "source": [
        "teste = pd.read_excel('/content/Vivo total TRP.xlsx')\n",
        "y_pred = my_pred = pickled_model.predict(teste)\n",
        "s_cor = pd.DataFrame(y_pred)\n",
        "y_pred = list(y_pred)\n",
        "y_pred[0] = teste['TRP'][0]\n",
        "y_pred[1] = y_pred[1]-(y_pred[1]*0.35)\n",
        "y_pred[2] = y_pred[2]-(y_pred[2]*0.35)\n",
        "\n",
        "y_pred[3] = y_pred[3]-(y_pred[3]*0.35)\n",
        "\n",
        "y_pred[4] = y_pred[4]-(y_pred[4]*0.35)\n",
        "#y_pred[5] = y_pred[5]-(y_pred[5]*0.35)\n",
        "#y_pred[6] = y_pred[6]-(y_pred[6]*0.35)\n",
        "\n",
        "for i in y_pred[5:]:\n",
        "    y_pred[y_pred.index(i)] = i-(i*0.28) #0.26 é o original\n",
        "\n",
        "y_pred = [round(item, 0) for item in y_pred]\n",
        "\n",
        "pred = pd.DataFrame(y_pred)\n",
        "\n",
        "\n",
        "semana = []\n",
        "j = 0\n",
        "for i in y_pred:\n",
        "  j += 1\n",
        "  semana.append(j)\n",
        "\n",
        "semana = pd.DataFrame(semana)\n",
        "\n",
        "df = pd.concat([semana, s_cor, pred], axis=1, ignore_index=True)\n",
        "df.rename(columns={0: 'Semana', 1:'Sem Correção', 2:'Predito'}, inplace=True)\n",
        "\n",
        "# Plot\n",
        "import plotly.express as px\n",
        "\n",
        "fig = px.line(df, x='Semana', y=['Sem Correção', 'Predito'])\n",
        "fig.show()"
      ],
      "metadata": {
        "colab": {
          "base_uri": "https://localhost:8080/",
          "height": 542
        },
        "id": "BMQ62xaYpX9n",
        "outputId": "0d346f42-7ce4-4b68-bfdb-319ab256172d"
      },
      "execution_count": null,
      "outputs": [
        {
          "output_type": "display_data",
          "data": {
            "text/html": [
              "<html>\n",
              "<head><meta charset=\"utf-8\" /></head>\n",
              "<body>\n",
              "    <div>            <script src=\"https://cdnjs.cloudflare.com/ajax/libs/mathjax/2.7.5/MathJax.js?config=TeX-AMS-MML_SVG\"></script><script type=\"text/javascript\">if (window.MathJax) {MathJax.Hub.Config({SVG: {font: \"STIX-Web\"}});}</script>                <script type=\"text/javascript\">window.PlotlyConfig = {MathJaxConfig: 'local'};</script>\n",
              "        <script src=\"https://cdn.plot.ly/plotly-2.8.3.min.js\"></script>                <div id=\"12faf4ba-982e-4f53-b691-379f84fe5bd5\" class=\"plotly-graph-div\" style=\"height:525px; width:100%;\"></div>            <script type=\"text/javascript\">                                    window.PLOTLYENV=window.PLOTLYENV || {};                                    if (document.getElementById(\"12faf4ba-982e-4f53-b691-379f84fe5bd5\")) {                    Plotly.newPlot(                        \"12faf4ba-982e-4f53-b691-379f84fe5bd5\",                        [{\"hovertemplate\":\"variable=Sem Corre\\u00e7\\u00e3o<br>Semana=%{x}<br>value=%{y}<extra></extra>\",\"legendgroup\":\"Sem Corre\\u00e7\\u00e3o\",\"line\":{\"color\":\"#636efa\",\"dash\":\"solid\"},\"marker\":{\"symbol\":\"circle\"},\"mode\":\"lines\",\"name\":\"Sem Corre\\u00e7\\u00e3o\",\"orientation\":\"v\",\"showlegend\":true,\"x\":[1,2,3,4,5,6,7,8,9,10,11,12,13,14,15,16,17,18,19,20],\"xaxis\":\"x\",\"y\":[168.39488220214844,313.6604309082031,429.2159423828125,522.8707275390625,631.5620727539062,620.8251953125,624.3024291992188,743.0321044921875,743.0321044921875,910.3157958984375,888.0448608398438,925.0436401367188,894.9839477539062,861.8565063476562,864.1487426757812,933.7596435546875,983.1019897460938,978.7930297851562,978.7930297851562,978.7930297851562],\"yaxis\":\"y\",\"type\":\"scatter\"},{\"hovertemplate\":\"variable=Predito<br>Semana=%{x}<br>value=%{y}<extra></extra>\",\"legendgroup\":\"Predito\",\"line\":{\"color\":\"#EF553B\",\"dash\":\"solid\"},\"marker\":{\"symbol\":\"circle\"},\"mode\":\"lines\",\"name\":\"Predito\",\"orientation\":\"v\",\"showlegend\":true,\"x\":[1,2,3,4,5,6,7,8,9,10,11,12,13,14,15,16,17,18,19,20],\"xaxis\":\"x\",\"y\":[135.0,204.0,279.0,340.0,411.0,447.0,449.0,535.0,535.0,655.0,639.0,666.0,644.0,621.0,622.0,672.0,708.0,705.0,705.0,705.0],\"yaxis\":\"y\",\"type\":\"scatter\"}],                        {\"template\":{\"data\":{\"bar\":[{\"error_x\":{\"color\":\"#2a3f5f\"},\"error_y\":{\"color\":\"#2a3f5f\"},\"marker\":{\"line\":{\"color\":\"#E5ECF6\",\"width\":0.5},\"pattern\":{\"fillmode\":\"overlay\",\"size\":10,\"solidity\":0.2}},\"type\":\"bar\"}],\"barpolar\":[{\"marker\":{\"line\":{\"color\":\"#E5ECF6\",\"width\":0.5},\"pattern\":{\"fillmode\":\"overlay\",\"size\":10,\"solidity\":0.2}},\"type\":\"barpolar\"}],\"carpet\":[{\"aaxis\":{\"endlinecolor\":\"#2a3f5f\",\"gridcolor\":\"white\",\"linecolor\":\"white\",\"minorgridcolor\":\"white\",\"startlinecolor\":\"#2a3f5f\"},\"baxis\":{\"endlinecolor\":\"#2a3f5f\",\"gridcolor\":\"white\",\"linecolor\":\"white\",\"minorgridcolor\":\"white\",\"startlinecolor\":\"#2a3f5f\"},\"type\":\"carpet\"}],\"choropleth\":[{\"colorbar\":{\"outlinewidth\":0,\"ticks\":\"\"},\"type\":\"choropleth\"}],\"contour\":[{\"colorbar\":{\"outlinewidth\":0,\"ticks\":\"\"},\"colorscale\":[[0.0,\"#0d0887\"],[0.1111111111111111,\"#46039f\"],[0.2222222222222222,\"#7201a8\"],[0.3333333333333333,\"#9c179e\"],[0.4444444444444444,\"#bd3786\"],[0.5555555555555556,\"#d8576b\"],[0.6666666666666666,\"#ed7953\"],[0.7777777777777778,\"#fb9f3a\"],[0.8888888888888888,\"#fdca26\"],[1.0,\"#f0f921\"]],\"type\":\"contour\"}],\"contourcarpet\":[{\"colorbar\":{\"outlinewidth\":0,\"ticks\":\"\"},\"type\":\"contourcarpet\"}],\"heatmap\":[{\"colorbar\":{\"outlinewidth\":0,\"ticks\":\"\"},\"colorscale\":[[0.0,\"#0d0887\"],[0.1111111111111111,\"#46039f\"],[0.2222222222222222,\"#7201a8\"],[0.3333333333333333,\"#9c179e\"],[0.4444444444444444,\"#bd3786\"],[0.5555555555555556,\"#d8576b\"],[0.6666666666666666,\"#ed7953\"],[0.7777777777777778,\"#fb9f3a\"],[0.8888888888888888,\"#fdca26\"],[1.0,\"#f0f921\"]],\"type\":\"heatmap\"}],\"heatmapgl\":[{\"colorbar\":{\"outlinewidth\":0,\"ticks\":\"\"},\"colorscale\":[[0.0,\"#0d0887\"],[0.1111111111111111,\"#46039f\"],[0.2222222222222222,\"#7201a8\"],[0.3333333333333333,\"#9c179e\"],[0.4444444444444444,\"#bd3786\"],[0.5555555555555556,\"#d8576b\"],[0.6666666666666666,\"#ed7953\"],[0.7777777777777778,\"#fb9f3a\"],[0.8888888888888888,\"#fdca26\"],[1.0,\"#f0f921\"]],\"type\":\"heatmapgl\"}],\"histogram\":[{\"marker\":{\"pattern\":{\"fillmode\":\"overlay\",\"size\":10,\"solidity\":0.2}},\"type\":\"histogram\"}],\"histogram2d\":[{\"colorbar\":{\"outlinewidth\":0,\"ticks\":\"\"},\"colorscale\":[[0.0,\"#0d0887\"],[0.1111111111111111,\"#46039f\"],[0.2222222222222222,\"#7201a8\"],[0.3333333333333333,\"#9c179e\"],[0.4444444444444444,\"#bd3786\"],[0.5555555555555556,\"#d8576b\"],[0.6666666666666666,\"#ed7953\"],[0.7777777777777778,\"#fb9f3a\"],[0.8888888888888888,\"#fdca26\"],[1.0,\"#f0f921\"]],\"type\":\"histogram2d\"}],\"histogram2dcontour\":[{\"colorbar\":{\"outlinewidth\":0,\"ticks\":\"\"},\"colorscale\":[[0.0,\"#0d0887\"],[0.1111111111111111,\"#46039f\"],[0.2222222222222222,\"#7201a8\"],[0.3333333333333333,\"#9c179e\"],[0.4444444444444444,\"#bd3786\"],[0.5555555555555556,\"#d8576b\"],[0.6666666666666666,\"#ed7953\"],[0.7777777777777778,\"#fb9f3a\"],[0.8888888888888888,\"#fdca26\"],[1.0,\"#f0f921\"]],\"type\":\"histogram2dcontour\"}],\"mesh3d\":[{\"colorbar\":{\"outlinewidth\":0,\"ticks\":\"\"},\"type\":\"mesh3d\"}],\"parcoords\":[{\"line\":{\"colorbar\":{\"outlinewidth\":0,\"ticks\":\"\"}},\"type\":\"parcoords\"}],\"pie\":[{\"automargin\":true,\"type\":\"pie\"}],\"scatter\":[{\"marker\":{\"colorbar\":{\"outlinewidth\":0,\"ticks\":\"\"}},\"type\":\"scatter\"}],\"scatter3d\":[{\"line\":{\"colorbar\":{\"outlinewidth\":0,\"ticks\":\"\"}},\"marker\":{\"colorbar\":{\"outlinewidth\":0,\"ticks\":\"\"}},\"type\":\"scatter3d\"}],\"scattercarpet\":[{\"marker\":{\"colorbar\":{\"outlinewidth\":0,\"ticks\":\"\"}},\"type\":\"scattercarpet\"}],\"scattergeo\":[{\"marker\":{\"colorbar\":{\"outlinewidth\":0,\"ticks\":\"\"}},\"type\":\"scattergeo\"}],\"scattergl\":[{\"marker\":{\"colorbar\":{\"outlinewidth\":0,\"ticks\":\"\"}},\"type\":\"scattergl\"}],\"scattermapbox\":[{\"marker\":{\"colorbar\":{\"outlinewidth\":0,\"ticks\":\"\"}},\"type\":\"scattermapbox\"}],\"scatterpolar\":[{\"marker\":{\"colorbar\":{\"outlinewidth\":0,\"ticks\":\"\"}},\"type\":\"scatterpolar\"}],\"scatterpolargl\":[{\"marker\":{\"colorbar\":{\"outlinewidth\":0,\"ticks\":\"\"}},\"type\":\"scatterpolargl\"}],\"scatterternary\":[{\"marker\":{\"colorbar\":{\"outlinewidth\":0,\"ticks\":\"\"}},\"type\":\"scatterternary\"}],\"surface\":[{\"colorbar\":{\"outlinewidth\":0,\"ticks\":\"\"},\"colorscale\":[[0.0,\"#0d0887\"],[0.1111111111111111,\"#46039f\"],[0.2222222222222222,\"#7201a8\"],[0.3333333333333333,\"#9c179e\"],[0.4444444444444444,\"#bd3786\"],[0.5555555555555556,\"#d8576b\"],[0.6666666666666666,\"#ed7953\"],[0.7777777777777778,\"#fb9f3a\"],[0.8888888888888888,\"#fdca26\"],[1.0,\"#f0f921\"]],\"type\":\"surface\"}],\"table\":[{\"cells\":{\"fill\":{\"color\":\"#EBF0F8\"},\"line\":{\"color\":\"white\"}},\"header\":{\"fill\":{\"color\":\"#C8D4E3\"},\"line\":{\"color\":\"white\"}},\"type\":\"table\"}]},\"layout\":{\"annotationdefaults\":{\"arrowcolor\":\"#2a3f5f\",\"arrowhead\":0,\"arrowwidth\":1},\"autotypenumbers\":\"strict\",\"coloraxis\":{\"colorbar\":{\"outlinewidth\":0,\"ticks\":\"\"}},\"colorscale\":{\"diverging\":[[0,\"#8e0152\"],[0.1,\"#c51b7d\"],[0.2,\"#de77ae\"],[0.3,\"#f1b6da\"],[0.4,\"#fde0ef\"],[0.5,\"#f7f7f7\"],[0.6,\"#e6f5d0\"],[0.7,\"#b8e186\"],[0.8,\"#7fbc41\"],[0.9,\"#4d9221\"],[1,\"#276419\"]],\"sequential\":[[0.0,\"#0d0887\"],[0.1111111111111111,\"#46039f\"],[0.2222222222222222,\"#7201a8\"],[0.3333333333333333,\"#9c179e\"],[0.4444444444444444,\"#bd3786\"],[0.5555555555555556,\"#d8576b\"],[0.6666666666666666,\"#ed7953\"],[0.7777777777777778,\"#fb9f3a\"],[0.8888888888888888,\"#fdca26\"],[1.0,\"#f0f921\"]],\"sequentialminus\":[[0.0,\"#0d0887\"],[0.1111111111111111,\"#46039f\"],[0.2222222222222222,\"#7201a8\"],[0.3333333333333333,\"#9c179e\"],[0.4444444444444444,\"#bd3786\"],[0.5555555555555556,\"#d8576b\"],[0.6666666666666666,\"#ed7953\"],[0.7777777777777778,\"#fb9f3a\"],[0.8888888888888888,\"#fdca26\"],[1.0,\"#f0f921\"]]},\"colorway\":[\"#636efa\",\"#EF553B\",\"#00cc96\",\"#ab63fa\",\"#FFA15A\",\"#19d3f3\",\"#FF6692\",\"#B6E880\",\"#FF97FF\",\"#FECB52\"],\"font\":{\"color\":\"#2a3f5f\"},\"geo\":{\"bgcolor\":\"white\",\"lakecolor\":\"white\",\"landcolor\":\"#E5ECF6\",\"showlakes\":true,\"showland\":true,\"subunitcolor\":\"white\"},\"hoverlabel\":{\"align\":\"left\"},\"hovermode\":\"closest\",\"mapbox\":{\"style\":\"light\"},\"paper_bgcolor\":\"white\",\"plot_bgcolor\":\"#E5ECF6\",\"polar\":{\"angularaxis\":{\"gridcolor\":\"white\",\"linecolor\":\"white\",\"ticks\":\"\"},\"bgcolor\":\"#E5ECF6\",\"radialaxis\":{\"gridcolor\":\"white\",\"linecolor\":\"white\",\"ticks\":\"\"}},\"scene\":{\"xaxis\":{\"backgroundcolor\":\"#E5ECF6\",\"gridcolor\":\"white\",\"gridwidth\":2,\"linecolor\":\"white\",\"showbackground\":true,\"ticks\":\"\",\"zerolinecolor\":\"white\"},\"yaxis\":{\"backgroundcolor\":\"#E5ECF6\",\"gridcolor\":\"white\",\"gridwidth\":2,\"linecolor\":\"white\",\"showbackground\":true,\"ticks\":\"\",\"zerolinecolor\":\"white\"},\"zaxis\":{\"backgroundcolor\":\"#E5ECF6\",\"gridcolor\":\"white\",\"gridwidth\":2,\"linecolor\":\"white\",\"showbackground\":true,\"ticks\":\"\",\"zerolinecolor\":\"white\"}},\"shapedefaults\":{\"line\":{\"color\":\"#2a3f5f\"}},\"ternary\":{\"aaxis\":{\"gridcolor\":\"white\",\"linecolor\":\"white\",\"ticks\":\"\"},\"baxis\":{\"gridcolor\":\"white\",\"linecolor\":\"white\",\"ticks\":\"\"},\"bgcolor\":\"#E5ECF6\",\"caxis\":{\"gridcolor\":\"white\",\"linecolor\":\"white\",\"ticks\":\"\"}},\"title\":{\"x\":0.05},\"xaxis\":{\"automargin\":true,\"gridcolor\":\"white\",\"linecolor\":\"white\",\"ticks\":\"\",\"title\":{\"standoff\":15},\"zerolinecolor\":\"white\",\"zerolinewidth\":2},\"yaxis\":{\"automargin\":true,\"gridcolor\":\"white\",\"linecolor\":\"white\",\"ticks\":\"\",\"title\":{\"standoff\":15},\"zerolinecolor\":\"white\",\"zerolinewidth\":2}}},\"xaxis\":{\"anchor\":\"y\",\"domain\":[0.0,1.0],\"title\":{\"text\":\"Semana\"}},\"yaxis\":{\"anchor\":\"x\",\"domain\":[0.0,1.0],\"title\":{\"text\":\"value\"}},\"legend\":{\"title\":{\"text\":\"variable\"},\"tracegroupgap\":0},\"margin\":{\"t\":60}},                        {\"responsive\": true}                    ).then(function(){\n",
              "                            \n",
              "var gd = document.getElementById('12faf4ba-982e-4f53-b691-379f84fe5bd5');\n",
              "var x = new MutationObserver(function (mutations, observer) {{\n",
              "        var display = window.getComputedStyle(gd).display;\n",
              "        if (!display || display === 'none') {{\n",
              "            console.log([gd, 'removed!']);\n",
              "            Plotly.purge(gd);\n",
              "            observer.disconnect();\n",
              "        }}\n",
              "}});\n",
              "\n",
              "// Listen for the removal of the full notebook cells\n",
              "var notebookContainer = gd.closest('#notebook-container');\n",
              "if (notebookContainer) {{\n",
              "    x.observe(notebookContainer, {childList: true});\n",
              "}}\n",
              "\n",
              "// Listen for the clearing of the current output cell\n",
              "var outputEl = gd.closest('.output');\n",
              "if (outputEl) {{\n",
              "    x.observe(outputEl, {childList: true});\n",
              "}}\n",
              "\n",
              "                        })                };                            </script>        </div>\n",
              "</body>\n",
              "</html>"
            ]
          },
          "metadata": {}
        }
      ]
    },
    {
      "cell_type": "code",
      "source": [
        "df"
      ],
      "metadata": {
        "colab": {
          "base_uri": "https://localhost:8080/",
          "height": 676
        },
        "id": "gS2mPF3OpztC",
        "outputId": "edd815d6-4dbd-40ad-9b6b-89a4d775f5e4"
      },
      "execution_count": null,
      "outputs": [
        {
          "output_type": "execute_result",
          "data": {
            "text/plain": [
              "    Semana  Sem Correção  Predito\n",
              "0        1    168.394882    135.0\n",
              "1        2    313.660431    204.0\n",
              "2        3    429.215942    279.0\n",
              "3        4    522.870728    340.0\n",
              "4        5    631.562073    411.0\n",
              "5        6    620.825195    447.0\n",
              "6        7    624.302429    449.0\n",
              "7        8    743.032104    535.0\n",
              "8        9    743.032104    535.0\n",
              "9       10    910.315796    655.0\n",
              "10      11    888.044861    639.0\n",
              "11      12    925.043640    666.0\n",
              "12      13    894.983948    644.0\n",
              "13      14    861.856506    621.0\n",
              "14      15    864.148743    622.0\n",
              "15      16    933.759644    672.0\n",
              "16      17    983.101990    708.0\n",
              "17      18    978.793030    705.0\n",
              "18      19    978.793030    705.0\n",
              "19      20    978.793030    705.0"
            ],
            "text/html": [
              "\n",
              "  <div id=\"df-e3bdbb25-02fe-4915-90a9-3d6663c9ba3d\">\n",
              "    <div class=\"colab-df-container\">\n",
              "      <div>\n",
              "<style scoped>\n",
              "    .dataframe tbody tr th:only-of-type {\n",
              "        vertical-align: middle;\n",
              "    }\n",
              "\n",
              "    .dataframe tbody tr th {\n",
              "        vertical-align: top;\n",
              "    }\n",
              "\n",
              "    .dataframe thead th {\n",
              "        text-align: right;\n",
              "    }\n",
              "</style>\n",
              "<table border=\"1\" class=\"dataframe\">\n",
              "  <thead>\n",
              "    <tr style=\"text-align: right;\">\n",
              "      <th></th>\n",
              "      <th>Semana</th>\n",
              "      <th>Sem Correção</th>\n",
              "      <th>Predito</th>\n",
              "    </tr>\n",
              "  </thead>\n",
              "  <tbody>\n",
              "    <tr>\n",
              "      <th>0</th>\n",
              "      <td>1</td>\n",
              "      <td>168.394882</td>\n",
              "      <td>135.0</td>\n",
              "    </tr>\n",
              "    <tr>\n",
              "      <th>1</th>\n",
              "      <td>2</td>\n",
              "      <td>313.660431</td>\n",
              "      <td>204.0</td>\n",
              "    </tr>\n",
              "    <tr>\n",
              "      <th>2</th>\n",
              "      <td>3</td>\n",
              "      <td>429.215942</td>\n",
              "      <td>279.0</td>\n",
              "    </tr>\n",
              "    <tr>\n",
              "      <th>3</th>\n",
              "      <td>4</td>\n",
              "      <td>522.870728</td>\n",
              "      <td>340.0</td>\n",
              "    </tr>\n",
              "    <tr>\n",
              "      <th>4</th>\n",
              "      <td>5</td>\n",
              "      <td>631.562073</td>\n",
              "      <td>411.0</td>\n",
              "    </tr>\n",
              "    <tr>\n",
              "      <th>5</th>\n",
              "      <td>6</td>\n",
              "      <td>620.825195</td>\n",
              "      <td>447.0</td>\n",
              "    </tr>\n",
              "    <tr>\n",
              "      <th>6</th>\n",
              "      <td>7</td>\n",
              "      <td>624.302429</td>\n",
              "      <td>449.0</td>\n",
              "    </tr>\n",
              "    <tr>\n",
              "      <th>7</th>\n",
              "      <td>8</td>\n",
              "      <td>743.032104</td>\n",
              "      <td>535.0</td>\n",
              "    </tr>\n",
              "    <tr>\n",
              "      <th>8</th>\n",
              "      <td>9</td>\n",
              "      <td>743.032104</td>\n",
              "      <td>535.0</td>\n",
              "    </tr>\n",
              "    <tr>\n",
              "      <th>9</th>\n",
              "      <td>10</td>\n",
              "      <td>910.315796</td>\n",
              "      <td>655.0</td>\n",
              "    </tr>\n",
              "    <tr>\n",
              "      <th>10</th>\n",
              "      <td>11</td>\n",
              "      <td>888.044861</td>\n",
              "      <td>639.0</td>\n",
              "    </tr>\n",
              "    <tr>\n",
              "      <th>11</th>\n",
              "      <td>12</td>\n",
              "      <td>925.043640</td>\n",
              "      <td>666.0</td>\n",
              "    </tr>\n",
              "    <tr>\n",
              "      <th>12</th>\n",
              "      <td>13</td>\n",
              "      <td>894.983948</td>\n",
              "      <td>644.0</td>\n",
              "    </tr>\n",
              "    <tr>\n",
              "      <th>13</th>\n",
              "      <td>14</td>\n",
              "      <td>861.856506</td>\n",
              "      <td>621.0</td>\n",
              "    </tr>\n",
              "    <tr>\n",
              "      <th>14</th>\n",
              "      <td>15</td>\n",
              "      <td>864.148743</td>\n",
              "      <td>622.0</td>\n",
              "    </tr>\n",
              "    <tr>\n",
              "      <th>15</th>\n",
              "      <td>16</td>\n",
              "      <td>933.759644</td>\n",
              "      <td>672.0</td>\n",
              "    </tr>\n",
              "    <tr>\n",
              "      <th>16</th>\n",
              "      <td>17</td>\n",
              "      <td>983.101990</td>\n",
              "      <td>708.0</td>\n",
              "    </tr>\n",
              "    <tr>\n",
              "      <th>17</th>\n",
              "      <td>18</td>\n",
              "      <td>978.793030</td>\n",
              "      <td>705.0</td>\n",
              "    </tr>\n",
              "    <tr>\n",
              "      <th>18</th>\n",
              "      <td>19</td>\n",
              "      <td>978.793030</td>\n",
              "      <td>705.0</td>\n",
              "    </tr>\n",
              "    <tr>\n",
              "      <th>19</th>\n",
              "      <td>20</td>\n",
              "      <td>978.793030</td>\n",
              "      <td>705.0</td>\n",
              "    </tr>\n",
              "  </tbody>\n",
              "</table>\n",
              "</div>\n",
              "      <button class=\"colab-df-convert\" onclick=\"convertToInteractive('df-e3bdbb25-02fe-4915-90a9-3d6663c9ba3d')\"\n",
              "              title=\"Convert this dataframe to an interactive table.\"\n",
              "              style=\"display:none;\">\n",
              "        \n",
              "  <svg xmlns=\"http://www.w3.org/2000/svg\" height=\"24px\"viewBox=\"0 0 24 24\"\n",
              "       width=\"24px\">\n",
              "    <path d=\"M0 0h24v24H0V0z\" fill=\"none\"/>\n",
              "    <path d=\"M18.56 5.44l.94 2.06.94-2.06 2.06-.94-2.06-.94-.94-2.06-.94 2.06-2.06.94zm-11 1L8.5 8.5l.94-2.06 2.06-.94-2.06-.94L8.5 2.5l-.94 2.06-2.06.94zm10 10l.94 2.06.94-2.06 2.06-.94-2.06-.94-.94-2.06-.94 2.06-2.06.94z\"/><path d=\"M17.41 7.96l-1.37-1.37c-.4-.4-.92-.59-1.43-.59-.52 0-1.04.2-1.43.59L10.3 9.45l-7.72 7.72c-.78.78-.78 2.05 0 2.83L4 21.41c.39.39.9.59 1.41.59.51 0 1.02-.2 1.41-.59l7.78-7.78 2.81-2.81c.8-.78.8-2.07 0-2.86zM5.41 20L4 18.59l7.72-7.72 1.47 1.35L5.41 20z\"/>\n",
              "  </svg>\n",
              "      </button>\n",
              "      \n",
              "  <style>\n",
              "    .colab-df-container {\n",
              "      display:flex;\n",
              "      flex-wrap:wrap;\n",
              "      gap: 12px;\n",
              "    }\n",
              "\n",
              "    .colab-df-convert {\n",
              "      background-color: #E8F0FE;\n",
              "      border: none;\n",
              "      border-radius: 50%;\n",
              "      cursor: pointer;\n",
              "      display: none;\n",
              "      fill: #1967D2;\n",
              "      height: 32px;\n",
              "      padding: 0 0 0 0;\n",
              "      width: 32px;\n",
              "    }\n",
              "\n",
              "    .colab-df-convert:hover {\n",
              "      background-color: #E2EBFA;\n",
              "      box-shadow: 0px 1px 2px rgba(60, 64, 67, 0.3), 0px 1px 3px 1px rgba(60, 64, 67, 0.15);\n",
              "      fill: #174EA6;\n",
              "    }\n",
              "\n",
              "    [theme=dark] .colab-df-convert {\n",
              "      background-color: #3B4455;\n",
              "      fill: #D2E3FC;\n",
              "    }\n",
              "\n",
              "    [theme=dark] .colab-df-convert:hover {\n",
              "      background-color: #434B5C;\n",
              "      box-shadow: 0px 1px 3px 1px rgba(0, 0, 0, 0.15);\n",
              "      filter: drop-shadow(0px 1px 2px rgba(0, 0, 0, 0.3));\n",
              "      fill: #FFFFFF;\n",
              "    }\n",
              "  </style>\n",
              "\n",
              "      <script>\n",
              "        const buttonEl =\n",
              "          document.querySelector('#df-e3bdbb25-02fe-4915-90a9-3d6663c9ba3d button.colab-df-convert');\n",
              "        buttonEl.style.display =\n",
              "          google.colab.kernel.accessAllowed ? 'block' : 'none';\n",
              "\n",
              "        async function convertToInteractive(key) {\n",
              "          const element = document.querySelector('#df-e3bdbb25-02fe-4915-90a9-3d6663c9ba3d');\n",
              "          const dataTable =\n",
              "            await google.colab.kernel.invokeFunction('convertToInteractive',\n",
              "                                                     [key], {});\n",
              "          if (!dataTable) return;\n",
              "\n",
              "          const docLinkHtml = 'Like what you see? Visit the ' +\n",
              "            '<a target=\"_blank\" href=https://colab.research.google.com/notebooks/data_table.ipynb>data table notebook</a>'\n",
              "            + ' to learn more about interactive tables.';\n",
              "          element.innerHTML = '';\n",
              "          dataTable['output_type'] = 'display_data';\n",
              "          await google.colab.output.renderOutput(dataTable, element);\n",
              "          const docLink = document.createElement('div');\n",
              "          docLink.innerHTML = docLinkHtml;\n",
              "          element.appendChild(docLink);\n",
              "        }\n",
              "      </script>\n",
              "    </div>\n",
              "  </div>\n",
              "  "
            ]
          },
          "metadata": {},
          "execution_count": 28
        }
      ]
    },
    {
      "cell_type": "code",
      "source": [
        "final = teste.merge(df, left_on='Semana', right_on='Semana')\n",
        "final.rename(columns={'Predito': 'Liquido'}, inplace = True)\n",
        "final[['Semana', 'TRP', 'Acumulado', 'Liquido']]"
      ],
      "metadata": {
        "colab": {
          "base_uri": "https://localhost:8080/",
          "height": 676
        },
        "id": "wHAHbBAJp3Pg",
        "outputId": "59cf84f7-f82a-4d02-d47a-ba28d3ab18ea"
      },
      "execution_count": null,
      "outputs": [
        {
          "output_type": "execute_result",
          "data": {
            "text/plain": [
              "    Semana  TRP  Acumulado  Liquido\n",
              "0        1  135        135    135.0\n",
              "1        2  165        300    204.0\n",
              "2        3  187        487    279.0\n",
              "3        4  140        627    340.0\n",
              "4        5  136        763    411.0\n",
              "5        6   60        823    447.0\n",
              "6        7   90        913    449.0\n",
              "7        8   56        969    535.0\n",
              "8        9   77       1046    535.0\n",
              "9       10  149       1195    655.0\n",
              "10      11   77       1272    639.0\n",
              "11      12   42       1314    666.0\n",
              "12      13   68       1382    644.0\n",
              "13      14   80       1462    621.0\n",
              "14      15   54       1516    622.0\n",
              "15      16   81       1597    672.0\n",
              "16      17   33       1630    708.0\n",
              "17      18   13       1643    705.0\n",
              "18      19   12       1655    705.0\n",
              "19      20   20       1675    705.0"
            ],
            "text/html": [
              "\n",
              "  <div id=\"df-33cbf497-7f13-4ee0-adb5-ca9d712e3819\">\n",
              "    <div class=\"colab-df-container\">\n",
              "      <div>\n",
              "<style scoped>\n",
              "    .dataframe tbody tr th:only-of-type {\n",
              "        vertical-align: middle;\n",
              "    }\n",
              "\n",
              "    .dataframe tbody tr th {\n",
              "        vertical-align: top;\n",
              "    }\n",
              "\n",
              "    .dataframe thead th {\n",
              "        text-align: right;\n",
              "    }\n",
              "</style>\n",
              "<table border=\"1\" class=\"dataframe\">\n",
              "  <thead>\n",
              "    <tr style=\"text-align: right;\">\n",
              "      <th></th>\n",
              "      <th>Semana</th>\n",
              "      <th>TRP</th>\n",
              "      <th>Acumulado</th>\n",
              "      <th>Liquido</th>\n",
              "    </tr>\n",
              "  </thead>\n",
              "  <tbody>\n",
              "    <tr>\n",
              "      <th>0</th>\n",
              "      <td>1</td>\n",
              "      <td>135</td>\n",
              "      <td>135</td>\n",
              "      <td>135.0</td>\n",
              "    </tr>\n",
              "    <tr>\n",
              "      <th>1</th>\n",
              "      <td>2</td>\n",
              "      <td>165</td>\n",
              "      <td>300</td>\n",
              "      <td>204.0</td>\n",
              "    </tr>\n",
              "    <tr>\n",
              "      <th>2</th>\n",
              "      <td>3</td>\n",
              "      <td>187</td>\n",
              "      <td>487</td>\n",
              "      <td>279.0</td>\n",
              "    </tr>\n",
              "    <tr>\n",
              "      <th>3</th>\n",
              "      <td>4</td>\n",
              "      <td>140</td>\n",
              "      <td>627</td>\n",
              "      <td>340.0</td>\n",
              "    </tr>\n",
              "    <tr>\n",
              "      <th>4</th>\n",
              "      <td>5</td>\n",
              "      <td>136</td>\n",
              "      <td>763</td>\n",
              "      <td>411.0</td>\n",
              "    </tr>\n",
              "    <tr>\n",
              "      <th>5</th>\n",
              "      <td>6</td>\n",
              "      <td>60</td>\n",
              "      <td>823</td>\n",
              "      <td>447.0</td>\n",
              "    </tr>\n",
              "    <tr>\n",
              "      <th>6</th>\n",
              "      <td>7</td>\n",
              "      <td>90</td>\n",
              "      <td>913</td>\n",
              "      <td>449.0</td>\n",
              "    </tr>\n",
              "    <tr>\n",
              "      <th>7</th>\n",
              "      <td>8</td>\n",
              "      <td>56</td>\n",
              "      <td>969</td>\n",
              "      <td>535.0</td>\n",
              "    </tr>\n",
              "    <tr>\n",
              "      <th>8</th>\n",
              "      <td>9</td>\n",
              "      <td>77</td>\n",
              "      <td>1046</td>\n",
              "      <td>535.0</td>\n",
              "    </tr>\n",
              "    <tr>\n",
              "      <th>9</th>\n",
              "      <td>10</td>\n",
              "      <td>149</td>\n",
              "      <td>1195</td>\n",
              "      <td>655.0</td>\n",
              "    </tr>\n",
              "    <tr>\n",
              "      <th>10</th>\n",
              "      <td>11</td>\n",
              "      <td>77</td>\n",
              "      <td>1272</td>\n",
              "      <td>639.0</td>\n",
              "    </tr>\n",
              "    <tr>\n",
              "      <th>11</th>\n",
              "      <td>12</td>\n",
              "      <td>42</td>\n",
              "      <td>1314</td>\n",
              "      <td>666.0</td>\n",
              "    </tr>\n",
              "    <tr>\n",
              "      <th>12</th>\n",
              "      <td>13</td>\n",
              "      <td>68</td>\n",
              "      <td>1382</td>\n",
              "      <td>644.0</td>\n",
              "    </tr>\n",
              "    <tr>\n",
              "      <th>13</th>\n",
              "      <td>14</td>\n",
              "      <td>80</td>\n",
              "      <td>1462</td>\n",
              "      <td>621.0</td>\n",
              "    </tr>\n",
              "    <tr>\n",
              "      <th>14</th>\n",
              "      <td>15</td>\n",
              "      <td>54</td>\n",
              "      <td>1516</td>\n",
              "      <td>622.0</td>\n",
              "    </tr>\n",
              "    <tr>\n",
              "      <th>15</th>\n",
              "      <td>16</td>\n",
              "      <td>81</td>\n",
              "      <td>1597</td>\n",
              "      <td>672.0</td>\n",
              "    </tr>\n",
              "    <tr>\n",
              "      <th>16</th>\n",
              "      <td>17</td>\n",
              "      <td>33</td>\n",
              "      <td>1630</td>\n",
              "      <td>708.0</td>\n",
              "    </tr>\n",
              "    <tr>\n",
              "      <th>17</th>\n",
              "      <td>18</td>\n",
              "      <td>13</td>\n",
              "      <td>1643</td>\n",
              "      <td>705.0</td>\n",
              "    </tr>\n",
              "    <tr>\n",
              "      <th>18</th>\n",
              "      <td>19</td>\n",
              "      <td>12</td>\n",
              "      <td>1655</td>\n",
              "      <td>705.0</td>\n",
              "    </tr>\n",
              "    <tr>\n",
              "      <th>19</th>\n",
              "      <td>20</td>\n",
              "      <td>20</td>\n",
              "      <td>1675</td>\n",
              "      <td>705.0</td>\n",
              "    </tr>\n",
              "  </tbody>\n",
              "</table>\n",
              "</div>\n",
              "      <button class=\"colab-df-convert\" onclick=\"convertToInteractive('df-33cbf497-7f13-4ee0-adb5-ca9d712e3819')\"\n",
              "              title=\"Convert this dataframe to an interactive table.\"\n",
              "              style=\"display:none;\">\n",
              "        \n",
              "  <svg xmlns=\"http://www.w3.org/2000/svg\" height=\"24px\"viewBox=\"0 0 24 24\"\n",
              "       width=\"24px\">\n",
              "    <path d=\"M0 0h24v24H0V0z\" fill=\"none\"/>\n",
              "    <path d=\"M18.56 5.44l.94 2.06.94-2.06 2.06-.94-2.06-.94-.94-2.06-.94 2.06-2.06.94zm-11 1L8.5 8.5l.94-2.06 2.06-.94-2.06-.94L8.5 2.5l-.94 2.06-2.06.94zm10 10l.94 2.06.94-2.06 2.06-.94-2.06-.94-.94-2.06-.94 2.06-2.06.94z\"/><path d=\"M17.41 7.96l-1.37-1.37c-.4-.4-.92-.59-1.43-.59-.52 0-1.04.2-1.43.59L10.3 9.45l-7.72 7.72c-.78.78-.78 2.05 0 2.83L4 21.41c.39.39.9.59 1.41.59.51 0 1.02-.2 1.41-.59l7.78-7.78 2.81-2.81c.8-.78.8-2.07 0-2.86zM5.41 20L4 18.59l7.72-7.72 1.47 1.35L5.41 20z\"/>\n",
              "  </svg>\n",
              "      </button>\n",
              "      \n",
              "  <style>\n",
              "    .colab-df-container {\n",
              "      display:flex;\n",
              "      flex-wrap:wrap;\n",
              "      gap: 12px;\n",
              "    }\n",
              "\n",
              "    .colab-df-convert {\n",
              "      background-color: #E8F0FE;\n",
              "      border: none;\n",
              "      border-radius: 50%;\n",
              "      cursor: pointer;\n",
              "      display: none;\n",
              "      fill: #1967D2;\n",
              "      height: 32px;\n",
              "      padding: 0 0 0 0;\n",
              "      width: 32px;\n",
              "    }\n",
              "\n",
              "    .colab-df-convert:hover {\n",
              "      background-color: #E2EBFA;\n",
              "      box-shadow: 0px 1px 2px rgba(60, 64, 67, 0.3), 0px 1px 3px 1px rgba(60, 64, 67, 0.15);\n",
              "      fill: #174EA6;\n",
              "    }\n",
              "\n",
              "    [theme=dark] .colab-df-convert {\n",
              "      background-color: #3B4455;\n",
              "      fill: #D2E3FC;\n",
              "    }\n",
              "\n",
              "    [theme=dark] .colab-df-convert:hover {\n",
              "      background-color: #434B5C;\n",
              "      box-shadow: 0px 1px 3px 1px rgba(0, 0, 0, 0.15);\n",
              "      filter: drop-shadow(0px 1px 2px rgba(0, 0, 0, 0.3));\n",
              "      fill: #FFFFFF;\n",
              "    }\n",
              "  </style>\n",
              "\n",
              "      <script>\n",
              "        const buttonEl =\n",
              "          document.querySelector('#df-33cbf497-7f13-4ee0-adb5-ca9d712e3819 button.colab-df-convert');\n",
              "        buttonEl.style.display =\n",
              "          google.colab.kernel.accessAllowed ? 'block' : 'none';\n",
              "\n",
              "        async function convertToInteractive(key) {\n",
              "          const element = document.querySelector('#df-33cbf497-7f13-4ee0-adb5-ca9d712e3819');\n",
              "          const dataTable =\n",
              "            await google.colab.kernel.invokeFunction('convertToInteractive',\n",
              "                                                     [key], {});\n",
              "          if (!dataTable) return;\n",
              "\n",
              "          const docLinkHtml = 'Like what you see? Visit the ' +\n",
              "            '<a target=\"_blank\" href=https://colab.research.google.com/notebooks/data_table.ipynb>data table notebook</a>'\n",
              "            + ' to learn more about interactive tables.';\n",
              "          element.innerHTML = '';\n",
              "          dataTable['output_type'] = 'display_data';\n",
              "          await google.colab.output.renderOutput(dataTable, element);\n",
              "          const docLink = document.createElement('div');\n",
              "          docLink.innerHTML = docLinkHtml;\n",
              "          element.appendChild(docLink);\n",
              "        }\n",
              "      </script>\n",
              "    </div>\n",
              "  </div>\n",
              "  "
            ]
          },
          "metadata": {},
          "execution_count": 29
        }
      ]
    },
    {
      "cell_type": "code",
      "source": [
        "fig = px.line(final, x='Semana', y=['TRP', 'Acumulado', 'Liquido', 'Sem Correção'])\n",
        "fig.show()"
      ],
      "metadata": {
        "colab": {
          "base_uri": "https://localhost:8080/",
          "height": 542
        },
        "id": "_GiNMfE2r7ZF",
        "outputId": "f3fa19c9-6a61-4143-97e5-309b8fe13686"
      },
      "execution_count": null,
      "outputs": [
        {
          "output_type": "display_data",
          "data": {
            "text/html": [
              "<html>\n",
              "<head><meta charset=\"utf-8\" /></head>\n",
              "<body>\n",
              "    <div>            <script src=\"https://cdnjs.cloudflare.com/ajax/libs/mathjax/2.7.5/MathJax.js?config=TeX-AMS-MML_SVG\"></script><script type=\"text/javascript\">if (window.MathJax) {MathJax.Hub.Config({SVG: {font: \"STIX-Web\"}});}</script>                <script type=\"text/javascript\">window.PlotlyConfig = {MathJaxConfig: 'local'};</script>\n",
              "        <script src=\"https://cdn.plot.ly/plotly-2.8.3.min.js\"></script>                <div id=\"6113d150-493e-4a15-9c25-d8e89854b246\" class=\"plotly-graph-div\" style=\"height:525px; width:100%;\"></div>            <script type=\"text/javascript\">                                    window.PLOTLYENV=window.PLOTLYENV || {};                                    if (document.getElementById(\"6113d150-493e-4a15-9c25-d8e89854b246\")) {                    Plotly.newPlot(                        \"6113d150-493e-4a15-9c25-d8e89854b246\",                        [{\"hovertemplate\":\"variable=TRP<br>Semana=%{x}<br>value=%{y}<extra></extra>\",\"legendgroup\":\"TRP\",\"line\":{\"color\":\"#636efa\",\"dash\":\"solid\"},\"marker\":{\"symbol\":\"circle\"},\"mode\":\"lines\",\"name\":\"TRP\",\"orientation\":\"v\",\"showlegend\":true,\"x\":[1,2,3,4,5,6,7,8,9,10,11,12,13,14,15,16,17,18,19,20],\"xaxis\":\"x\",\"y\":[135.0,165.0,187.0,140.0,136.0,60.0,90.0,56.0,77.0,149.0,77.0,42.0,68.0,80.0,54.0,81.0,33.0,13.0,12.0,20.0],\"yaxis\":\"y\",\"type\":\"scatter\"},{\"hovertemplate\":\"variable=Acumulado<br>Semana=%{x}<br>value=%{y}<extra></extra>\",\"legendgroup\":\"Acumulado\",\"line\":{\"color\":\"#EF553B\",\"dash\":\"solid\"},\"marker\":{\"symbol\":\"circle\"},\"mode\":\"lines\",\"name\":\"Acumulado\",\"orientation\":\"v\",\"showlegend\":true,\"x\":[1,2,3,4,5,6,7,8,9,10,11,12,13,14,15,16,17,18,19,20],\"xaxis\":\"x\",\"y\":[135.0,300.0,487.0,627.0,763.0,823.0,913.0,969.0,1046.0,1195.0,1272.0,1314.0,1382.0,1462.0,1516.0,1597.0,1630.0,1643.0,1655.0,1675.0],\"yaxis\":\"y\",\"type\":\"scatter\"},{\"hovertemplate\":\"variable=Liquido<br>Semana=%{x}<br>value=%{y}<extra></extra>\",\"legendgroup\":\"Liquido\",\"line\":{\"color\":\"#00cc96\",\"dash\":\"solid\"},\"marker\":{\"symbol\":\"circle\"},\"mode\":\"lines\",\"name\":\"Liquido\",\"orientation\":\"v\",\"showlegend\":true,\"x\":[1,2,3,4,5,6,7,8,9,10,11,12,13,14,15,16,17,18,19,20],\"xaxis\":\"x\",\"y\":[135.0,204.0,279.0,340.0,411.0,447.0,449.0,535.0,535.0,655.0,639.0,666.0,644.0,621.0,622.0,672.0,708.0,705.0,705.0,705.0],\"yaxis\":\"y\",\"type\":\"scatter\"},{\"hovertemplate\":\"variable=Sem Corre\\u00e7\\u00e3o<br>Semana=%{x}<br>value=%{y}<extra></extra>\",\"legendgroup\":\"Sem Corre\\u00e7\\u00e3o\",\"line\":{\"color\":\"#ab63fa\",\"dash\":\"solid\"},\"marker\":{\"symbol\":\"circle\"},\"mode\":\"lines\",\"name\":\"Sem Corre\\u00e7\\u00e3o\",\"orientation\":\"v\",\"showlegend\":true,\"x\":[1,2,3,4,5,6,7,8,9,10,11,12,13,14,15,16,17,18,19,20],\"xaxis\":\"x\",\"y\":[168.39488220214844,313.6604309082031,429.2159423828125,522.8707275390625,631.5620727539062,620.8251953125,624.3024291992188,743.0321044921875,743.0321044921875,910.3157958984375,888.0448608398438,925.0436401367188,894.9839477539062,861.8565063476562,864.1487426757812,933.7596435546875,983.1019897460938,978.7930297851562,978.7930297851562,978.7930297851562],\"yaxis\":\"y\",\"type\":\"scatter\"}],                        {\"template\":{\"data\":{\"bar\":[{\"error_x\":{\"color\":\"#2a3f5f\"},\"error_y\":{\"color\":\"#2a3f5f\"},\"marker\":{\"line\":{\"color\":\"#E5ECF6\",\"width\":0.5},\"pattern\":{\"fillmode\":\"overlay\",\"size\":10,\"solidity\":0.2}},\"type\":\"bar\"}],\"barpolar\":[{\"marker\":{\"line\":{\"color\":\"#E5ECF6\",\"width\":0.5},\"pattern\":{\"fillmode\":\"overlay\",\"size\":10,\"solidity\":0.2}},\"type\":\"barpolar\"}],\"carpet\":[{\"aaxis\":{\"endlinecolor\":\"#2a3f5f\",\"gridcolor\":\"white\",\"linecolor\":\"white\",\"minorgridcolor\":\"white\",\"startlinecolor\":\"#2a3f5f\"},\"baxis\":{\"endlinecolor\":\"#2a3f5f\",\"gridcolor\":\"white\",\"linecolor\":\"white\",\"minorgridcolor\":\"white\",\"startlinecolor\":\"#2a3f5f\"},\"type\":\"carpet\"}],\"choropleth\":[{\"colorbar\":{\"outlinewidth\":0,\"ticks\":\"\"},\"type\":\"choropleth\"}],\"contour\":[{\"colorbar\":{\"outlinewidth\":0,\"ticks\":\"\"},\"colorscale\":[[0.0,\"#0d0887\"],[0.1111111111111111,\"#46039f\"],[0.2222222222222222,\"#7201a8\"],[0.3333333333333333,\"#9c179e\"],[0.4444444444444444,\"#bd3786\"],[0.5555555555555556,\"#d8576b\"],[0.6666666666666666,\"#ed7953\"],[0.7777777777777778,\"#fb9f3a\"],[0.8888888888888888,\"#fdca26\"],[1.0,\"#f0f921\"]],\"type\":\"contour\"}],\"contourcarpet\":[{\"colorbar\":{\"outlinewidth\":0,\"ticks\":\"\"},\"type\":\"contourcarpet\"}],\"heatmap\":[{\"colorbar\":{\"outlinewidth\":0,\"ticks\":\"\"},\"colorscale\":[[0.0,\"#0d0887\"],[0.1111111111111111,\"#46039f\"],[0.2222222222222222,\"#7201a8\"],[0.3333333333333333,\"#9c179e\"],[0.4444444444444444,\"#bd3786\"],[0.5555555555555556,\"#d8576b\"],[0.6666666666666666,\"#ed7953\"],[0.7777777777777778,\"#fb9f3a\"],[0.8888888888888888,\"#fdca26\"],[1.0,\"#f0f921\"]],\"type\":\"heatmap\"}],\"heatmapgl\":[{\"colorbar\":{\"outlinewidth\":0,\"ticks\":\"\"},\"colorscale\":[[0.0,\"#0d0887\"],[0.1111111111111111,\"#46039f\"],[0.2222222222222222,\"#7201a8\"],[0.3333333333333333,\"#9c179e\"],[0.4444444444444444,\"#bd3786\"],[0.5555555555555556,\"#d8576b\"],[0.6666666666666666,\"#ed7953\"],[0.7777777777777778,\"#fb9f3a\"],[0.8888888888888888,\"#fdca26\"],[1.0,\"#f0f921\"]],\"type\":\"heatmapgl\"}],\"histogram\":[{\"marker\":{\"pattern\":{\"fillmode\":\"overlay\",\"size\":10,\"solidity\":0.2}},\"type\":\"histogram\"}],\"histogram2d\":[{\"colorbar\":{\"outlinewidth\":0,\"ticks\":\"\"},\"colorscale\":[[0.0,\"#0d0887\"],[0.1111111111111111,\"#46039f\"],[0.2222222222222222,\"#7201a8\"],[0.3333333333333333,\"#9c179e\"],[0.4444444444444444,\"#bd3786\"],[0.5555555555555556,\"#d8576b\"],[0.6666666666666666,\"#ed7953\"],[0.7777777777777778,\"#fb9f3a\"],[0.8888888888888888,\"#fdca26\"],[1.0,\"#f0f921\"]],\"type\":\"histogram2d\"}],\"histogram2dcontour\":[{\"colorbar\":{\"outlinewidth\":0,\"ticks\":\"\"},\"colorscale\":[[0.0,\"#0d0887\"],[0.1111111111111111,\"#46039f\"],[0.2222222222222222,\"#7201a8\"],[0.3333333333333333,\"#9c179e\"],[0.4444444444444444,\"#bd3786\"],[0.5555555555555556,\"#d8576b\"],[0.6666666666666666,\"#ed7953\"],[0.7777777777777778,\"#fb9f3a\"],[0.8888888888888888,\"#fdca26\"],[1.0,\"#f0f921\"]],\"type\":\"histogram2dcontour\"}],\"mesh3d\":[{\"colorbar\":{\"outlinewidth\":0,\"ticks\":\"\"},\"type\":\"mesh3d\"}],\"parcoords\":[{\"line\":{\"colorbar\":{\"outlinewidth\":0,\"ticks\":\"\"}},\"type\":\"parcoords\"}],\"pie\":[{\"automargin\":true,\"type\":\"pie\"}],\"scatter\":[{\"marker\":{\"colorbar\":{\"outlinewidth\":0,\"ticks\":\"\"}},\"type\":\"scatter\"}],\"scatter3d\":[{\"line\":{\"colorbar\":{\"outlinewidth\":0,\"ticks\":\"\"}},\"marker\":{\"colorbar\":{\"outlinewidth\":0,\"ticks\":\"\"}},\"type\":\"scatter3d\"}],\"scattercarpet\":[{\"marker\":{\"colorbar\":{\"outlinewidth\":0,\"ticks\":\"\"}},\"type\":\"scattercarpet\"}],\"scattergeo\":[{\"marker\":{\"colorbar\":{\"outlinewidth\":0,\"ticks\":\"\"}},\"type\":\"scattergeo\"}],\"scattergl\":[{\"marker\":{\"colorbar\":{\"outlinewidth\":0,\"ticks\":\"\"}},\"type\":\"scattergl\"}],\"scattermapbox\":[{\"marker\":{\"colorbar\":{\"outlinewidth\":0,\"ticks\":\"\"}},\"type\":\"scattermapbox\"}],\"scatterpolar\":[{\"marker\":{\"colorbar\":{\"outlinewidth\":0,\"ticks\":\"\"}},\"type\":\"scatterpolar\"}],\"scatterpolargl\":[{\"marker\":{\"colorbar\":{\"outlinewidth\":0,\"ticks\":\"\"}},\"type\":\"scatterpolargl\"}],\"scatterternary\":[{\"marker\":{\"colorbar\":{\"outlinewidth\":0,\"ticks\":\"\"}},\"type\":\"scatterternary\"}],\"surface\":[{\"colorbar\":{\"outlinewidth\":0,\"ticks\":\"\"},\"colorscale\":[[0.0,\"#0d0887\"],[0.1111111111111111,\"#46039f\"],[0.2222222222222222,\"#7201a8\"],[0.3333333333333333,\"#9c179e\"],[0.4444444444444444,\"#bd3786\"],[0.5555555555555556,\"#d8576b\"],[0.6666666666666666,\"#ed7953\"],[0.7777777777777778,\"#fb9f3a\"],[0.8888888888888888,\"#fdca26\"],[1.0,\"#f0f921\"]],\"type\":\"surface\"}],\"table\":[{\"cells\":{\"fill\":{\"color\":\"#EBF0F8\"},\"line\":{\"color\":\"white\"}},\"header\":{\"fill\":{\"color\":\"#C8D4E3\"},\"line\":{\"color\":\"white\"}},\"type\":\"table\"}]},\"layout\":{\"annotationdefaults\":{\"arrowcolor\":\"#2a3f5f\",\"arrowhead\":0,\"arrowwidth\":1},\"autotypenumbers\":\"strict\",\"coloraxis\":{\"colorbar\":{\"outlinewidth\":0,\"ticks\":\"\"}},\"colorscale\":{\"diverging\":[[0,\"#8e0152\"],[0.1,\"#c51b7d\"],[0.2,\"#de77ae\"],[0.3,\"#f1b6da\"],[0.4,\"#fde0ef\"],[0.5,\"#f7f7f7\"],[0.6,\"#e6f5d0\"],[0.7,\"#b8e186\"],[0.8,\"#7fbc41\"],[0.9,\"#4d9221\"],[1,\"#276419\"]],\"sequential\":[[0.0,\"#0d0887\"],[0.1111111111111111,\"#46039f\"],[0.2222222222222222,\"#7201a8\"],[0.3333333333333333,\"#9c179e\"],[0.4444444444444444,\"#bd3786\"],[0.5555555555555556,\"#d8576b\"],[0.6666666666666666,\"#ed7953\"],[0.7777777777777778,\"#fb9f3a\"],[0.8888888888888888,\"#fdca26\"],[1.0,\"#f0f921\"]],\"sequentialminus\":[[0.0,\"#0d0887\"],[0.1111111111111111,\"#46039f\"],[0.2222222222222222,\"#7201a8\"],[0.3333333333333333,\"#9c179e\"],[0.4444444444444444,\"#bd3786\"],[0.5555555555555556,\"#d8576b\"],[0.6666666666666666,\"#ed7953\"],[0.7777777777777778,\"#fb9f3a\"],[0.8888888888888888,\"#fdca26\"],[1.0,\"#f0f921\"]]},\"colorway\":[\"#636efa\",\"#EF553B\",\"#00cc96\",\"#ab63fa\",\"#FFA15A\",\"#19d3f3\",\"#FF6692\",\"#B6E880\",\"#FF97FF\",\"#FECB52\"],\"font\":{\"color\":\"#2a3f5f\"},\"geo\":{\"bgcolor\":\"white\",\"lakecolor\":\"white\",\"landcolor\":\"#E5ECF6\",\"showlakes\":true,\"showland\":true,\"subunitcolor\":\"white\"},\"hoverlabel\":{\"align\":\"left\"},\"hovermode\":\"closest\",\"mapbox\":{\"style\":\"light\"},\"paper_bgcolor\":\"white\",\"plot_bgcolor\":\"#E5ECF6\",\"polar\":{\"angularaxis\":{\"gridcolor\":\"white\",\"linecolor\":\"white\",\"ticks\":\"\"},\"bgcolor\":\"#E5ECF6\",\"radialaxis\":{\"gridcolor\":\"white\",\"linecolor\":\"white\",\"ticks\":\"\"}},\"scene\":{\"xaxis\":{\"backgroundcolor\":\"#E5ECF6\",\"gridcolor\":\"white\",\"gridwidth\":2,\"linecolor\":\"white\",\"showbackground\":true,\"ticks\":\"\",\"zerolinecolor\":\"white\"},\"yaxis\":{\"backgroundcolor\":\"#E5ECF6\",\"gridcolor\":\"white\",\"gridwidth\":2,\"linecolor\":\"white\",\"showbackground\":true,\"ticks\":\"\",\"zerolinecolor\":\"white\"},\"zaxis\":{\"backgroundcolor\":\"#E5ECF6\",\"gridcolor\":\"white\",\"gridwidth\":2,\"linecolor\":\"white\",\"showbackground\":true,\"ticks\":\"\",\"zerolinecolor\":\"white\"}},\"shapedefaults\":{\"line\":{\"color\":\"#2a3f5f\"}},\"ternary\":{\"aaxis\":{\"gridcolor\":\"white\",\"linecolor\":\"white\",\"ticks\":\"\"},\"baxis\":{\"gridcolor\":\"white\",\"linecolor\":\"white\",\"ticks\":\"\"},\"bgcolor\":\"#E5ECF6\",\"caxis\":{\"gridcolor\":\"white\",\"linecolor\":\"white\",\"ticks\":\"\"}},\"title\":{\"x\":0.05},\"xaxis\":{\"automargin\":true,\"gridcolor\":\"white\",\"linecolor\":\"white\",\"ticks\":\"\",\"title\":{\"standoff\":15},\"zerolinecolor\":\"white\",\"zerolinewidth\":2},\"yaxis\":{\"automargin\":true,\"gridcolor\":\"white\",\"linecolor\":\"white\",\"ticks\":\"\",\"title\":{\"standoff\":15},\"zerolinecolor\":\"white\",\"zerolinewidth\":2}}},\"xaxis\":{\"anchor\":\"y\",\"domain\":[0.0,1.0],\"title\":{\"text\":\"Semana\"}},\"yaxis\":{\"anchor\":\"x\",\"domain\":[0.0,1.0],\"title\":{\"text\":\"value\"}},\"legend\":{\"title\":{\"text\":\"variable\"},\"tracegroupgap\":0},\"margin\":{\"t\":60}},                        {\"responsive\": true}                    ).then(function(){\n",
              "                            \n",
              "var gd = document.getElementById('6113d150-493e-4a15-9c25-d8e89854b246');\n",
              "var x = new MutationObserver(function (mutations, observer) {{\n",
              "        var display = window.getComputedStyle(gd).display;\n",
              "        if (!display || display === 'none') {{\n",
              "            console.log([gd, 'removed!']);\n",
              "            Plotly.purge(gd);\n",
              "            observer.disconnect();\n",
              "        }}\n",
              "}});\n",
              "\n",
              "// Listen for the removal of the full notebook cells\n",
              "var notebookContainer = gd.closest('#notebook-container');\n",
              "if (notebookContainer) {{\n",
              "    x.observe(notebookContainer, {childList: true});\n",
              "}}\n",
              "\n",
              "// Listen for the clearing of the current output cell\n",
              "var outputEl = gd.closest('.output');\n",
              "if (outputEl) {{\n",
              "    x.observe(outputEl, {childList: true});\n",
              "}}\n",
              "\n",
              "                        })                };                            </script>        </div>\n",
              "</body>\n",
              "</html>"
            ]
          },
          "metadata": {}
        }
      ]
    },
    {
      "cell_type": "code",
      "source": [
        "fig = px.line(final, x='Semana', y=['TRP', 'Acumulado', 'Liquido'])\n",
        "fig.show()"
      ],
      "metadata": {
        "colab": {
          "base_uri": "https://localhost:8080/",
          "height": 542
        },
        "id": "qRgBwRkep5q_",
        "outputId": "e64e82b2-7d63-4c4c-b4cb-b239bc581c23"
      },
      "execution_count": null,
      "outputs": [
        {
          "output_type": "display_data",
          "data": {
            "text/html": [
              "<html>\n",
              "<head><meta charset=\"utf-8\" /></head>\n",
              "<body>\n",
              "    <div>            <script src=\"https://cdnjs.cloudflare.com/ajax/libs/mathjax/2.7.5/MathJax.js?config=TeX-AMS-MML_SVG\"></script><script type=\"text/javascript\">if (window.MathJax) {MathJax.Hub.Config({SVG: {font: \"STIX-Web\"}});}</script>                <script type=\"text/javascript\">window.PlotlyConfig = {MathJaxConfig: 'local'};</script>\n",
              "        <script src=\"https://cdn.plot.ly/plotly-2.8.3.min.js\"></script>                <div id=\"dca7c7f2-bf2f-4417-b344-d858d912949f\" class=\"plotly-graph-div\" style=\"height:525px; width:100%;\"></div>            <script type=\"text/javascript\">                                    window.PLOTLYENV=window.PLOTLYENV || {};                                    if (document.getElementById(\"dca7c7f2-bf2f-4417-b344-d858d912949f\")) {                    Plotly.newPlot(                        \"dca7c7f2-bf2f-4417-b344-d858d912949f\",                        [{\"hovertemplate\":\"variable=TRP<br>Semana=%{x}<br>value=%{y}<extra></extra>\",\"legendgroup\":\"TRP\",\"line\":{\"color\":\"#636efa\",\"dash\":\"solid\"},\"marker\":{\"symbol\":\"circle\"},\"mode\":\"lines\",\"name\":\"TRP\",\"orientation\":\"v\",\"showlegend\":true,\"x\":[1,2,3,4,5,6,7,8,9,10,11,12,13,14,15,16,17,18,19,20],\"xaxis\":\"x\",\"y\":[135.0,165.0,187.0,140.0,136.0,60.0,90.0,56.0,77.0,149.0,77.0,42.0,68.0,80.0,54.0,81.0,33.0,13.0,12.0,20.0],\"yaxis\":\"y\",\"type\":\"scatter\"},{\"hovertemplate\":\"variable=Acumulado<br>Semana=%{x}<br>value=%{y}<extra></extra>\",\"legendgroup\":\"Acumulado\",\"line\":{\"color\":\"#EF553B\",\"dash\":\"solid\"},\"marker\":{\"symbol\":\"circle\"},\"mode\":\"lines\",\"name\":\"Acumulado\",\"orientation\":\"v\",\"showlegend\":true,\"x\":[1,2,3,4,5,6,7,8,9,10,11,12,13,14,15,16,17,18,19,20],\"xaxis\":\"x\",\"y\":[135.0,300.0,487.0,627.0,763.0,823.0,913.0,969.0,1046.0,1195.0,1272.0,1314.0,1382.0,1462.0,1516.0,1597.0,1630.0,1643.0,1655.0,1675.0],\"yaxis\":\"y\",\"type\":\"scatter\"},{\"hovertemplate\":\"variable=Liquido<br>Semana=%{x}<br>value=%{y}<extra></extra>\",\"legendgroup\":\"Liquido\",\"line\":{\"color\":\"#00cc96\",\"dash\":\"solid\"},\"marker\":{\"symbol\":\"circle\"},\"mode\":\"lines\",\"name\":\"Liquido\",\"orientation\":\"v\",\"showlegend\":true,\"x\":[1,2,3,4,5,6,7,8,9,10,11,12,13,14,15,16,17,18,19,20],\"xaxis\":\"x\",\"y\":[135.0,204.0,279.0,340.0,411.0,447.0,449.0,535.0,535.0,655.0,639.0,666.0,644.0,621.0,622.0,672.0,708.0,705.0,705.0,705.0],\"yaxis\":\"y\",\"type\":\"scatter\"}],                        {\"template\":{\"data\":{\"bar\":[{\"error_x\":{\"color\":\"#2a3f5f\"},\"error_y\":{\"color\":\"#2a3f5f\"},\"marker\":{\"line\":{\"color\":\"#E5ECF6\",\"width\":0.5},\"pattern\":{\"fillmode\":\"overlay\",\"size\":10,\"solidity\":0.2}},\"type\":\"bar\"}],\"barpolar\":[{\"marker\":{\"line\":{\"color\":\"#E5ECF6\",\"width\":0.5},\"pattern\":{\"fillmode\":\"overlay\",\"size\":10,\"solidity\":0.2}},\"type\":\"barpolar\"}],\"carpet\":[{\"aaxis\":{\"endlinecolor\":\"#2a3f5f\",\"gridcolor\":\"white\",\"linecolor\":\"white\",\"minorgridcolor\":\"white\",\"startlinecolor\":\"#2a3f5f\"},\"baxis\":{\"endlinecolor\":\"#2a3f5f\",\"gridcolor\":\"white\",\"linecolor\":\"white\",\"minorgridcolor\":\"white\",\"startlinecolor\":\"#2a3f5f\"},\"type\":\"carpet\"}],\"choropleth\":[{\"colorbar\":{\"outlinewidth\":0,\"ticks\":\"\"},\"type\":\"choropleth\"}],\"contour\":[{\"colorbar\":{\"outlinewidth\":0,\"ticks\":\"\"},\"colorscale\":[[0.0,\"#0d0887\"],[0.1111111111111111,\"#46039f\"],[0.2222222222222222,\"#7201a8\"],[0.3333333333333333,\"#9c179e\"],[0.4444444444444444,\"#bd3786\"],[0.5555555555555556,\"#d8576b\"],[0.6666666666666666,\"#ed7953\"],[0.7777777777777778,\"#fb9f3a\"],[0.8888888888888888,\"#fdca26\"],[1.0,\"#f0f921\"]],\"type\":\"contour\"}],\"contourcarpet\":[{\"colorbar\":{\"outlinewidth\":0,\"ticks\":\"\"},\"type\":\"contourcarpet\"}],\"heatmap\":[{\"colorbar\":{\"outlinewidth\":0,\"ticks\":\"\"},\"colorscale\":[[0.0,\"#0d0887\"],[0.1111111111111111,\"#46039f\"],[0.2222222222222222,\"#7201a8\"],[0.3333333333333333,\"#9c179e\"],[0.4444444444444444,\"#bd3786\"],[0.5555555555555556,\"#d8576b\"],[0.6666666666666666,\"#ed7953\"],[0.7777777777777778,\"#fb9f3a\"],[0.8888888888888888,\"#fdca26\"],[1.0,\"#f0f921\"]],\"type\":\"heatmap\"}],\"heatmapgl\":[{\"colorbar\":{\"outlinewidth\":0,\"ticks\":\"\"},\"colorscale\":[[0.0,\"#0d0887\"],[0.1111111111111111,\"#46039f\"],[0.2222222222222222,\"#7201a8\"],[0.3333333333333333,\"#9c179e\"],[0.4444444444444444,\"#bd3786\"],[0.5555555555555556,\"#d8576b\"],[0.6666666666666666,\"#ed7953\"],[0.7777777777777778,\"#fb9f3a\"],[0.8888888888888888,\"#fdca26\"],[1.0,\"#f0f921\"]],\"type\":\"heatmapgl\"}],\"histogram\":[{\"marker\":{\"pattern\":{\"fillmode\":\"overlay\",\"size\":10,\"solidity\":0.2}},\"type\":\"histogram\"}],\"histogram2d\":[{\"colorbar\":{\"outlinewidth\":0,\"ticks\":\"\"},\"colorscale\":[[0.0,\"#0d0887\"],[0.1111111111111111,\"#46039f\"],[0.2222222222222222,\"#7201a8\"],[0.3333333333333333,\"#9c179e\"],[0.4444444444444444,\"#bd3786\"],[0.5555555555555556,\"#d8576b\"],[0.6666666666666666,\"#ed7953\"],[0.7777777777777778,\"#fb9f3a\"],[0.8888888888888888,\"#fdca26\"],[1.0,\"#f0f921\"]],\"type\":\"histogram2d\"}],\"histogram2dcontour\":[{\"colorbar\":{\"outlinewidth\":0,\"ticks\":\"\"},\"colorscale\":[[0.0,\"#0d0887\"],[0.1111111111111111,\"#46039f\"],[0.2222222222222222,\"#7201a8\"],[0.3333333333333333,\"#9c179e\"],[0.4444444444444444,\"#bd3786\"],[0.5555555555555556,\"#d8576b\"],[0.6666666666666666,\"#ed7953\"],[0.7777777777777778,\"#fb9f3a\"],[0.8888888888888888,\"#fdca26\"],[1.0,\"#f0f921\"]],\"type\":\"histogram2dcontour\"}],\"mesh3d\":[{\"colorbar\":{\"outlinewidth\":0,\"ticks\":\"\"},\"type\":\"mesh3d\"}],\"parcoords\":[{\"line\":{\"colorbar\":{\"outlinewidth\":0,\"ticks\":\"\"}},\"type\":\"parcoords\"}],\"pie\":[{\"automargin\":true,\"type\":\"pie\"}],\"scatter\":[{\"marker\":{\"colorbar\":{\"outlinewidth\":0,\"ticks\":\"\"}},\"type\":\"scatter\"}],\"scatter3d\":[{\"line\":{\"colorbar\":{\"outlinewidth\":0,\"ticks\":\"\"}},\"marker\":{\"colorbar\":{\"outlinewidth\":0,\"ticks\":\"\"}},\"type\":\"scatter3d\"}],\"scattercarpet\":[{\"marker\":{\"colorbar\":{\"outlinewidth\":0,\"ticks\":\"\"}},\"type\":\"scattercarpet\"}],\"scattergeo\":[{\"marker\":{\"colorbar\":{\"outlinewidth\":0,\"ticks\":\"\"}},\"type\":\"scattergeo\"}],\"scattergl\":[{\"marker\":{\"colorbar\":{\"outlinewidth\":0,\"ticks\":\"\"}},\"type\":\"scattergl\"}],\"scattermapbox\":[{\"marker\":{\"colorbar\":{\"outlinewidth\":0,\"ticks\":\"\"}},\"type\":\"scattermapbox\"}],\"scatterpolar\":[{\"marker\":{\"colorbar\":{\"outlinewidth\":0,\"ticks\":\"\"}},\"type\":\"scatterpolar\"}],\"scatterpolargl\":[{\"marker\":{\"colorbar\":{\"outlinewidth\":0,\"ticks\":\"\"}},\"type\":\"scatterpolargl\"}],\"scatterternary\":[{\"marker\":{\"colorbar\":{\"outlinewidth\":0,\"ticks\":\"\"}},\"type\":\"scatterternary\"}],\"surface\":[{\"colorbar\":{\"outlinewidth\":0,\"ticks\":\"\"},\"colorscale\":[[0.0,\"#0d0887\"],[0.1111111111111111,\"#46039f\"],[0.2222222222222222,\"#7201a8\"],[0.3333333333333333,\"#9c179e\"],[0.4444444444444444,\"#bd3786\"],[0.5555555555555556,\"#d8576b\"],[0.6666666666666666,\"#ed7953\"],[0.7777777777777778,\"#fb9f3a\"],[0.8888888888888888,\"#fdca26\"],[1.0,\"#f0f921\"]],\"type\":\"surface\"}],\"table\":[{\"cells\":{\"fill\":{\"color\":\"#EBF0F8\"},\"line\":{\"color\":\"white\"}},\"header\":{\"fill\":{\"color\":\"#C8D4E3\"},\"line\":{\"color\":\"white\"}},\"type\":\"table\"}]},\"layout\":{\"annotationdefaults\":{\"arrowcolor\":\"#2a3f5f\",\"arrowhead\":0,\"arrowwidth\":1},\"autotypenumbers\":\"strict\",\"coloraxis\":{\"colorbar\":{\"outlinewidth\":0,\"ticks\":\"\"}},\"colorscale\":{\"diverging\":[[0,\"#8e0152\"],[0.1,\"#c51b7d\"],[0.2,\"#de77ae\"],[0.3,\"#f1b6da\"],[0.4,\"#fde0ef\"],[0.5,\"#f7f7f7\"],[0.6,\"#e6f5d0\"],[0.7,\"#b8e186\"],[0.8,\"#7fbc41\"],[0.9,\"#4d9221\"],[1,\"#276419\"]],\"sequential\":[[0.0,\"#0d0887\"],[0.1111111111111111,\"#46039f\"],[0.2222222222222222,\"#7201a8\"],[0.3333333333333333,\"#9c179e\"],[0.4444444444444444,\"#bd3786\"],[0.5555555555555556,\"#d8576b\"],[0.6666666666666666,\"#ed7953\"],[0.7777777777777778,\"#fb9f3a\"],[0.8888888888888888,\"#fdca26\"],[1.0,\"#f0f921\"]],\"sequentialminus\":[[0.0,\"#0d0887\"],[0.1111111111111111,\"#46039f\"],[0.2222222222222222,\"#7201a8\"],[0.3333333333333333,\"#9c179e\"],[0.4444444444444444,\"#bd3786\"],[0.5555555555555556,\"#d8576b\"],[0.6666666666666666,\"#ed7953\"],[0.7777777777777778,\"#fb9f3a\"],[0.8888888888888888,\"#fdca26\"],[1.0,\"#f0f921\"]]},\"colorway\":[\"#636efa\",\"#EF553B\",\"#00cc96\",\"#ab63fa\",\"#FFA15A\",\"#19d3f3\",\"#FF6692\",\"#B6E880\",\"#FF97FF\",\"#FECB52\"],\"font\":{\"color\":\"#2a3f5f\"},\"geo\":{\"bgcolor\":\"white\",\"lakecolor\":\"white\",\"landcolor\":\"#E5ECF6\",\"showlakes\":true,\"showland\":true,\"subunitcolor\":\"white\"},\"hoverlabel\":{\"align\":\"left\"},\"hovermode\":\"closest\",\"mapbox\":{\"style\":\"light\"},\"paper_bgcolor\":\"white\",\"plot_bgcolor\":\"#E5ECF6\",\"polar\":{\"angularaxis\":{\"gridcolor\":\"white\",\"linecolor\":\"white\",\"ticks\":\"\"},\"bgcolor\":\"#E5ECF6\",\"radialaxis\":{\"gridcolor\":\"white\",\"linecolor\":\"white\",\"ticks\":\"\"}},\"scene\":{\"xaxis\":{\"backgroundcolor\":\"#E5ECF6\",\"gridcolor\":\"white\",\"gridwidth\":2,\"linecolor\":\"white\",\"showbackground\":true,\"ticks\":\"\",\"zerolinecolor\":\"white\"},\"yaxis\":{\"backgroundcolor\":\"#E5ECF6\",\"gridcolor\":\"white\",\"gridwidth\":2,\"linecolor\":\"white\",\"showbackground\":true,\"ticks\":\"\",\"zerolinecolor\":\"white\"},\"zaxis\":{\"backgroundcolor\":\"#E5ECF6\",\"gridcolor\":\"white\",\"gridwidth\":2,\"linecolor\":\"white\",\"showbackground\":true,\"ticks\":\"\",\"zerolinecolor\":\"white\"}},\"shapedefaults\":{\"line\":{\"color\":\"#2a3f5f\"}},\"ternary\":{\"aaxis\":{\"gridcolor\":\"white\",\"linecolor\":\"white\",\"ticks\":\"\"},\"baxis\":{\"gridcolor\":\"white\",\"linecolor\":\"white\",\"ticks\":\"\"},\"bgcolor\":\"#E5ECF6\",\"caxis\":{\"gridcolor\":\"white\",\"linecolor\":\"white\",\"ticks\":\"\"}},\"title\":{\"x\":0.05},\"xaxis\":{\"automargin\":true,\"gridcolor\":\"white\",\"linecolor\":\"white\",\"ticks\":\"\",\"title\":{\"standoff\":15},\"zerolinecolor\":\"white\",\"zerolinewidth\":2},\"yaxis\":{\"automargin\":true,\"gridcolor\":\"white\",\"linecolor\":\"white\",\"ticks\":\"\",\"title\":{\"standoff\":15},\"zerolinecolor\":\"white\",\"zerolinewidth\":2}}},\"xaxis\":{\"anchor\":\"y\",\"domain\":[0.0,1.0],\"title\":{\"text\":\"Semana\"}},\"yaxis\":{\"anchor\":\"x\",\"domain\":[0.0,1.0],\"title\":{\"text\":\"value\"}},\"legend\":{\"title\":{\"text\":\"variable\"},\"tracegroupgap\":0},\"margin\":{\"t\":60}},                        {\"responsive\": true}                    ).then(function(){\n",
              "                            \n",
              "var gd = document.getElementById('dca7c7f2-bf2f-4417-b344-d858d912949f');\n",
              "var x = new MutationObserver(function (mutations, observer) {{\n",
              "        var display = window.getComputedStyle(gd).display;\n",
              "        if (!display || display === 'none') {{\n",
              "            console.log([gd, 'removed!']);\n",
              "            Plotly.purge(gd);\n",
              "            observer.disconnect();\n",
              "        }}\n",
              "}});\n",
              "\n",
              "// Listen for the removal of the full notebook cells\n",
              "var notebookContainer = gd.closest('#notebook-container');\n",
              "if (notebookContainer) {{\n",
              "    x.observe(notebookContainer, {childList: true});\n",
              "}}\n",
              "\n",
              "// Listen for the clearing of the current output cell\n",
              "var outputEl = gd.closest('.output');\n",
              "if (outputEl) {{\n",
              "    x.observe(outputEl, {childList: true});\n",
              "}}\n",
              "\n",
              "                        })                };                            </script>        </div>\n",
              "</body>\n",
              "</html>"
            ]
          },
          "metadata": {}
        }
      ]
    },
    {
      "cell_type": "code",
      "source": [
        "df_final = final[['Semana', 'TRP', 'Acumulado', 'Liquido']]\n",
        "\n",
        "df_final.to_excel('TRP.xlsx', index=False)"
      ],
      "metadata": {
        "id": "TcAtOuL9p7Up"
      },
      "execution_count": null,
      "outputs": []
    }
  ],
  "metadata": {
    "accelerator": "GPU",
    "colab": {
      "provenance": [],
      "collapsed_sections": [
        "L-rVQtun8sA6",
        "J8L0We8sJT6C",
        "7O3nhvj8cMZw",
        "46nOnJCGH8Ng",
        "Il77xJGhbt0Q",
        "WvYkQSm9ftVC",
        "kxe1uHhNPxt2",
        "FTr_a71yGARr",
        "UmKg7TphclTZ",
        "LUYOchzDePzw",
        "ZN48CsRpA7Qu",
        "LZE3Jw9E62xf",
        "414EKodsIjHc"
      ],
      "mount_file_id": "1dy7sHJVMskfBPfmoGDLqUo4HqLs4D3Z6",
      "authorship_tag": "ABX9TyNoO0mDv0FaiE+R0V+1Y/Q5",
      "include_colab_link": true
    },
    "gpuClass": "standard",
    "kernelspec": {
      "display_name": "Python 3",
      "name": "python3"
    },
    "language_info": {
      "name": "python"
    }
  },
  "nbformat": 4,
  "nbformat_minor": 0
}